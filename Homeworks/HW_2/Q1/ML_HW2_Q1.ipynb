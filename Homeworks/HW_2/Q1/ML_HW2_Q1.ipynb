{
 "cells": [
  {
   "attachments": {},
   "cell_type": "markdown",
   "id": "f12c3d1c",
   "metadata": {},
   "source": [
    "<div dir=rtl align=center>\n",
    "\n",
    "<img src='https://upload.wikimedia.org/wikipedia/fa/thumb/a/a9/Sharif_logo.svg/626px-Sharif_logo.svg.png?20110526112825' alt=\"SUT logo\" width=200 height=200 align=center  >\n",
    "<br>\n",
    "<font face=\"B Yekan\">\n",
    "<font color=0F5298 size=7>\n",
    "یادگیری ماشین<br>\n",
    "<font color=2565AE size=5>\n",
    "دانشکده مهندسی صنایع<br>\n",
    "<font color=2565AE size=4>\n",
    "دکتر مهدی شریف زاده <br>\n",
    "<font color=2565AE size=4>\n",
    "محمدتقی دهقان نژاد <br>\n",
    "بهار 1402<br>\n",
    "\n",
    "<font color=3C99D size=5>\n",
    "تمرین عملی 2\n",
    "<br>\n",
    "SVM \n",
    "<br>\n",
    "100 نمره\n",
    "    \n",
    "    \n",
    "____\n"
   ]
  },
  {
   "cell_type": "code",
   "execution_count": null,
   "id": "c02ff1c7",
   "metadata": {},
   "outputs": [],
   "source": [
    "from sklearn.svm import SVC\n",
    "from sklearn.svm import LinearSVC\n",
    "import numpy as np\n",
    "import matplotlib.pyplot as plt\n",
    "\n",
    "from sklearn.model_selection import train_test_split"
   ]
  },
  {
   "attachments": {},
   "cell_type": "markdown",
   "id": "4716f54e",
   "metadata": {},
   "source": [
    "# Load data"
   ]
  },
  {
   "cell_type": "markdown",
   "id": "02fbcab0",
   "metadata": {},
   "source": [
    "Load the breast cancer dataset from scikit-learn using the following code:\n"
   ]
  },
  {
   "cell_type": "code",
   "execution_count": null,
   "id": "6bdcbe2b",
   "metadata": {},
   "outputs": [],
   "source": [
    "from sklearn.datasets import load_breast_cancer\n",
    "#TODO"
   ]
  },
  {
   "attachments": {},
   "cell_type": "markdown",
   "id": "bdfec078",
   "metadata": {},
   "source": [
    "# A. Data Splitting (5 points)"
   ]
  },
  {
   "attachments": {},
   "cell_type": "markdown",
   "id": "53d1993c",
   "metadata": {},
   "source": [
    "Split the dataset into training and testing sets using a 70/30 split.\n"
   ]
  },
  {
   "cell_type": "code",
   "execution_count": null,
   "id": "af279bad",
   "metadata": {},
   "outputs": [],
   "source": [
    "\n",
    "#TODO"
   ]
  },
  {
   "attachments": {},
   "cell_type": "markdown",
   "id": "4dc3034b",
   "metadata": {},
   "source": [
    "# B. Linear SVC Model (15 points)"
   ]
  },
  {
   "cell_type": "markdown",
   "id": "222560b2",
   "metadata": {},
   "source": [
    "Implement a linear SVM classifier using scikit-learn's LinearSVC. Train the classifier on the training set and evaluate its accuracy on the testing set. {15 points}\n"
   ]
  },
  {
   "cell_type": "code",
   "execution_count": null,
   "id": "034ec7cc",
   "metadata": {},
   "outputs": [],
   "source": [
    "\n",
    "linear_svc = #TODO\n",
    "#TODO\n",
    "accuracy = #TODO\n"
   ]
  },
  {
   "attachments": {},
   "cell_type": "markdown",
   "id": "40c97e14",
   "metadata": {},
   "source": [
    "# C. RBF Kernel SVM (15 points)"
   ]
  },
  {
   "cell_type": "markdown",
   "id": "e2fe4dc0",
   "metadata": {},
   "source": [
    "Implement a kernel SVM classifier using scikit-learn's SVC with the RBF kernel. Train the classifier on the training set and evaluate its accuracy on the testing set. Experiment with different values of the gamma parameter to see how it affects the performance of the classifier. {15 points}"
   ]
  },
  {
   "cell_type": "code",
   "execution_count": null,
   "id": "0ebf87f5",
   "metadata": {},
   "outputs": [],
   "source": [
    "\n",
    "rbf_svc = #TODO\n",
    "#TODO\n",
    "accuracy = #TODO\n"
   ]
  },
  {
   "attachments": {},
   "cell_type": "markdown",
   "id": "bed64106",
   "metadata": {},
   "source": [
    "# D. Polynomial Kernel SVM (15 points)"
   ]
  },
  {
   "cell_type": "markdown",
   "id": "d86f9a91",
   "metadata": {},
   "source": [
    "Implement a kernel SVM classifier using scikit-learn's SVC with the polynomial kernel. Train the classifier on the training set and evaluate its accuracy on the testing set. Experiment with different values of the degree and coef0 parameters to see how they affect the performance of the classifier. {15 points}"
   ]
  },
  {
   "cell_type": "code",
   "execution_count": null,
   "id": "bffe73a8",
   "metadata": {
    "scrolled": true
   },
   "outputs": [],
   "source": [
    "poly_svc = #TODO\n",
    "#TODO\n",
    "accuracy = #TODO\n"
   ]
  },
  {
   "attachments": {},
   "cell_type": "markdown",
   "id": "7a5a09c4",
   "metadata": {},
   "source": [
    "# E. Comparison (25 points)"
   ]
  },
  {
   "cell_type": "markdown",
   "id": "4559d8b5",
   "metadata": {},
   "source": [
    "Compare the accuracy of the three classifiers implemented in questions 2, 3, and 4. Which classifier performed better and why?(There is no need to code, explain in text **completely**) {25 points}\n"
   ]
  },
  {
   "cell_type": "markdown",
   "id": "eea4dc04",
   "metadata": {},
   "source": [
    "accuracy of 2: \n",
    "\n",
    "accuracy of 3:\n",
    "\n",
    "accuracy of 4:\n",
    "\n",
    "comparing:"
   ]
  },
  {
   "attachments": {},
   "cell_type": "markdown",
   "id": "f1aa9fc2",
   "metadata": {},
   "source": [
    "# F. Decision Boundary Visualization (25 points)"
   ]
  },
  {
   "cell_type": "markdown",
   "id": "43d2ed24",
   "metadata": {},
   "source": [
    "Visualize the decision boundaries for the classifiers implemented in questions 2, 3, and 4 using matplotlib. Plot the training and testing data as well. {25 points}\n"
   ]
  },
  {
   "cell_type": "code",
   "execution_count": null,
   "id": "9639ddf0",
   "metadata": {},
   "outputs": [],
   "source": [
    "\n",
    "\n",
    "# Plot decision boundaries for linear SVM classifier (question 2)\n",
    "linear_svc.fit(X_train[:, :2], y_train)  # only using first two features for visualization\n",
    "#TODO\n",
    "plt.xlabel('Feature 1')\n",
    "plt.ylabel('Feature 2')\n",
    "plt.title('Linear SVM Decision Boundary')\n",
    "plt.show()\n",
    "\n",
    "# Plot decision boundaries for RBF kernel SVM classifier (question 3)\n",
    "rbf_svc.fit(X_train[:, :2], y_train)  # only using first two features for visualization\n",
    "#TODO\n",
    "plt.xlabel('Feature 1')\n",
    "plt.ylabel('Feature 2')\n",
    "plt.title('RBF SVM Decision Boundary')\n",
    "plt.show()\n",
    "\n",
    "# Plot decision boundaries for polynomial kernel SVM classifier (question 4)\n",
    "poly_svc.fit(X_train[:, :2], y_train)  # only using first two features for visualization\n",
    "#TODO\n",
    "plt.xlabel('Feature 1')\n",
    "plt.ylabel('Feature 2')\n",
    "plt.title('Polynomial SVM Decision Boundary')\n",
    "plt.show()\n"
   ]
  }
 ],
 "metadata": {
  "kernelspec": {
   "display_name": "Python 3 (ipykernel)",
   "language": "python",
   "name": "python3"
  },
  "language_info": {
   "codemirror_mode": {
    "name": "ipython",
    "version": 3
   },
   "file_extension": ".py",
   "mimetype": "text/x-python",
   "name": "python",
   "nbconvert_exporter": "python",
   "pygments_lexer": "ipython3",
   "version": "3.9.12"
  }
 },
 "nbformat": 4,
 "nbformat_minor": 5
}
