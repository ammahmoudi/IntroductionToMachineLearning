{
 "cells": [
  {
   "attachments": {},
   "cell_type": "markdown",
   "id": "5902c1f3",
   "metadata": {},
   "source": [
    "<div dir=rtl align=center>\n",
    "\n",
    "<img src='https://upload.wikimedia.org/wikipedia/fa/thumb/a/a9/Sharif_logo.svg/626px-Sharif_logo.svg.png?20110526112825' alt=\"SUT logo\" width=200 height=200 align=center  >\n",
    "<br>\n",
    "<font face=\"B Yekan\">\n",
    "<font color=0F5298 size=7>\n",
    "یادگیری ماشین<br>\n",
    "<font color=2565AE size=5>\n",
    "دانشکده مهندسی صنایع<br>\n",
    "<font color=2565AE size=4>\n",
    "دکتر مهدی شریف زاده <br>\n",
    "<font  size=4>\n",
    "\n",
    "سعید زواشکیانی\n",
    " <br>\n",
    "بهار 1402<br>\n",
    "\n",
    "<font color=3C99D size=5>\n",
    "تمرین عملی 1\n",
    "<br>\n",
    "سوال 4\n",
    "مصالحه بایاس-واریانس \n",
    "<br>\n",
    "80 نمره\n",
    "    \n",
    "    \n",
    "____\n"
   ]
  },
  {
   "attachments": {},
   "cell_type": "markdown",
   "id": "5e85f16a",
   "metadata": {},
   "source": [
    "### Full Name : \n",
    "\n",
    "### Student Number : \n",
    "\n",
    "---\n"
   ]
  },
  {
   "attachments": {},
   "cell_type": "markdown",
   "id": "ac560d39",
   "metadata": {},
   "source": [
    "<div dir=\"rtl\" style=\"font-size:16px;\">\n",
    "<font face=\"B Yekan\">\n",
    "در این تمرین با مصالحه بایاس-واریانس (bias-variance tradeoff) آشنا خواهید شد.\n",
    "\n",
    "</div>"
   ]
  },
  {
   "attachments": {},
   "cell_type": "markdown",
   "id": "ec5c2f08",
   "metadata": {},
   "source": [
    "# Libraries"
   ]
  },
  {
   "cell_type": "code",
   "execution_count": null,
   "id": "e104a64b",
   "metadata": {},
   "outputs": [],
   "source": [
    "import pandas as pd\n",
    "import matplotlib.pyplot as plt\n",
    "from matplotlib.colors import ListedColormap\n",
    "cmap_light = ListedColormap(['cyan','orange'])\n",
    "cmap_bold = ListedColormap(['red', 'blue'])\n",
    "import numpy as np\n",
    "from sklearn.datasets import make_moons\n",
    "from sklearn.preprocessing import StandardScaler\n",
    "from sklearn.neighbors import KNeighborsClassifier\n",
    "from sklearn.model_selection import train_test_split, cross_val_score\n",
    "from matplotlib.ticker import ScalarFormatter\n",
    "# add what you want"
   ]
  },
  {
   "attachments": {},
   "cell_type": "markdown",
   "id": "437f821b",
   "metadata": {},
   "source": [
    "# A. Make data (5 points)"
   ]
  },
  {
   "attachments": {},
   "cell_type": "markdown",
   "id": "ac9ea68d",
   "metadata": {},
   "source": [
    "<div dir=\"rtl\" style=\"font-size:16px;\"><font face=\"B Yekan\">\n",
    "\n",
    "ابتدا یک دیتاست مصنوعی با استفاده از \n",
    "[دستور make_moons](https://scikit-learn.org/stable/modules/generated/sklearn.datasets.make_moons.html)\n",
    " با پارامتر noise=0.35 و با ۱۵۰۰ داده تصادفی بسازید.\n",
    "</div>"
   ]
  },
  {
   "cell_type": "code",
   "execution_count": null,
   "id": "adfff8da",
   "metadata": {},
   "outputs": [],
   "source": [
    "#TODO"
   ]
  },
  {
   "attachments": {},
   "cell_type": "markdown",
   "id": "5de92e51",
   "metadata": {},
   "source": [
    "# B. Scatter Plot (5 points)"
   ]
  },
  {
   "attachments": {},
   "cell_type": "markdown",
   "id": "5614eb34",
   "metadata": {},
   "source": [
    "<div dir=\"rtl\" style=\"font-size:16px;\">\n",
    "<font face=\"B Yekan\">\n",
    "\n",
    "نمودار پراکندگی هر کلاس را با رنگ متفاوت در یک نمودار رسم کنید.\n",
    "</div>"
   ]
  },
  {
   "cell_type": "code",
   "execution_count": null,
   "id": "db0744ee",
   "metadata": {},
   "outputs": [],
   "source": [
    "#TODO"
   ]
  },
  {
   "attachments": {},
   "cell_type": "markdown",
   "id": "6abe3cc3",
   "metadata": {},
   "source": [
    "# C. Decision boundaries (50 points)"
   ]
  },
  {
   "attachments": {},
   "cell_type": "markdown",
   "id": "b9a667fd",
   "metadata": {},
   "source": [
    "<div dir=\"rtl\" style=\"font-size:16px;\">\n",
    "<font face=\"B Yekan\">\n",
    "\n",
    "حال دیتاست خود را به ۳ بخش مساوی به صورت تصادفی تقسیم کنید. برای هر بخش ۳\n",
    "[مدل طبقه بند نزدیک‌ترین همسایه (‌k-nearest neighbor)](https://fa.wikipedia.org/wiki/%D8%A7%D9%84%DA%AF%D9%88%D8%B1%DB%8C%D8%AA%D9%85_%DA%A9%DB%8C-%D9%86%D8%B2%D8%AF%DB%8C%DA%A9%E2%80%8C%D8%AA%D8%B1%DB%8C%D9%86_%D9%87%D9%85%D8%B3%D8%A7%DB%8C%D9%87)\n",
    " با پارامتر k={1, 25, 50} آموزش دهید (در مجموع ۹ ترکیب خواهید داشت)(برای به کارگیری مدل می توانید از کتابخانه استفاده کنید.). برای هر ترکیب،‌ مرز تصمیم‌گیری را به همراه تمام دیتاست رسم کنید و نتیجه را در یک نمودار سه در سه که ردیف‌های آن، دیتاست‌های \n",
    " متفاوت و ستون‌های آن k های متفاوت اند،‌ نشان دهید.‌ (‌برای اینکار باید صفحه را مش‌بندی کنید و کلاس هر نقطه در مش را با طبقه بند خود پیش‌بینی کنید).\n",
    "</div>"
   ]
  },
  {
   "cell_type": "code",
   "execution_count": null,
   "id": "152f456c",
   "metadata": {},
   "outputs": [],
   "source": [
    "#TODO"
   ]
  },
  {
   "attachments": {},
   "cell_type": "markdown",
   "id": "6b7d2ee6",
   "metadata": {},
   "source": [
    "# D. Bias Variance Trade-off (20 points)"
   ]
  },
  {
   "attachments": {},
   "cell_type": "markdown",
   "id": "eada2522",
   "metadata": {},
   "source": [
    "<div dir=\"rtl\" style=\"font-size:16px;\">\n",
    "<font face=\"B Yekan\">\n",
    " تفاوت مرز تصمیم‌گیری در ردیف‌ها و ستون‌ها را بیان کنید و مصالحه بین بایاس-واریانس را بر اساس نمودار توضیح دهید.\n",
    "</div>"
   ]
  },
  {
   "cell_type": "code",
   "execution_count": null,
   "id": "b121514a",
   "metadata": {},
   "outputs": [],
   "source": [
    "#TODO"
   ]
  }
 ],
 "metadata": {
  "kernelspec": {
   "display_name": "Python 3",
   "language": "python",
   "name": "python3"
  },
  "language_info": {
   "codemirror_mode": {
    "name": "ipython",
    "version": 3
   },
   "file_extension": ".py",
   "mimetype": "text/x-python",
   "name": "python",
   "nbconvert_exporter": "python",
   "pygments_lexer": "ipython3",
   "version": "3.10.10"
  },
  "toc": {
   "base_numbering": 1,
   "nav_menu": {},
   "number_sections": true,
   "sideBar": true,
   "skip_h1_title": false,
   "title_cell": "Table of Contents",
   "title_sidebar": "Contents",
   "toc_cell": false,
   "toc_position": {},
   "toc_section_display": true,
   "toc_window_display": false
  },
  "varInspector": {
   "cols": {
    "lenName": 16,
    "lenType": 16,
    "lenVar": 40
   },
   "kernels_config": {
    "python": {
     "delete_cmd_postfix": "",
     "delete_cmd_prefix": "del ",
     "library": "var_list.py",
     "varRefreshCmd": "print(var_dic_list())"
    },
    "r": {
     "delete_cmd_postfix": ") ",
     "delete_cmd_prefix": "rm(",
     "library": "var_list.r",
     "varRefreshCmd": "cat(var_dic_list()) "
    }
   },
   "types_to_exclude": [
    "module",
    "function",
    "builtin_function_or_method",
    "instance",
    "_Feature"
   ],
   "window_display": false
  },
  "vscode": {
   "interpreter": {
    "hash": "ec21d020fdb83eb2829808c0505e5b33037481656f73549d7749c38a50b0ef23"
   }
  }
 },
 "nbformat": 4,
 "nbformat_minor": 5
}
