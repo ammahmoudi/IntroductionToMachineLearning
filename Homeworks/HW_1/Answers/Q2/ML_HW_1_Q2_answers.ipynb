{
 "cells": [
  {
   "attachments": {},
   "cell_type": "markdown",
   "id": "5902c1f3",
   "metadata": {},
   "source": [
    "<div dir=rtl align=center>\n",
    "\n",
    "<img src='https://upload.wikimedia.org/wikipedia/fa/thumb/a/a9/Sharif_logo.svg/626px-Sharif_logo.svg.png?20110526112825' alt=\"SUT logo\" width=200 height=200 align=center  >\n",
    "<br>\n",
    "<font face=\"B Yekan\">\n",
    "<font color=0F5298 size=7>\n",
    "یادگیری ماشین<br>\n",
    "<font color=2565AE size=5>\n",
    "دانشکده مهندسی صنایع<br>\n",
    "<font color=2565AE size=4>\n",
    "دکتر مهدی شریف زاده <br>\n",
    "<font  size=4>\n",
    "\n",
    "سعید زواشکیانی\n",
    " <br>\n",
    "بهار 1402<br>\n",
    "\n",
    "<font color=3C99D size=5>\n",
    "تمرین عملی 1\n",
    "<br>\n",
    "سوال 2\n",
    "- هزینه سالانه بیمه درمانی\n",
    "<br>\n",
    "80 نمره\n",
    "    \n",
    "    \n",
    "____\n"
   ]
  },
  {
   "attachments": {},
   "cell_type": "markdown",
   "id": "ac560d39",
   "metadata": {},
   "source": [
    "<div dir=\"rtl\" style=\"font-size:16px;\">\n",
    "<font face=\"B Yekan\">\n",
    "فایل insurance.csv شامل ۶ ویژگی (شامل متغیرها عددی و گروهی (categorical)) از افراد مختلف است که هزینه سالانه بیمه درمانی این افراد (ستون charges بر حسب هزار دلار) در این فایل ثبت شده‌است. هدف، تخمین این هزینه با استفاده از ۶ ویژگی است.\n",
    "\n",
    "</div>"
   ]
  },
  {
   "attachments": {},
   "cell_type": "markdown",
   "id": "ec5c2f08",
   "metadata": {},
   "source": [
    "# Libraries"
   ]
  },
  {
   "cell_type": "code",
   "execution_count": 1,
   "id": "e104a64b",
   "metadata": {},
   "outputs": [],
   "source": [
    "import numpy as np\n",
    "import pandas as pd\n",
    "from sklearn.model_selection import train_test_split\n",
    "from sklearn.linear_model import LinearRegression\n",
    "from sklearn.metrics import mean_squared_error\n",
    "from sklearn.preprocessing import StandardScaler\n",
    "from sklearn.pipeline import Pipeline\n",
    "from sklearn.compose import ColumnTransformer\n",
    "from sklearn.preprocessing import OneHotEncoder\n",
    "from sklearn.preprocessing import OrdinalEncoder\n",
    "# add what you want"
   ]
  },
  {
   "attachments": {},
   "cell_type": "markdown",
   "id": "437f821b",
   "metadata": {},
   "source": [
    "# Load data"
   ]
  },
  {
   "cell_type": "code",
   "execution_count": 2,
   "id": "adfff8da",
   "metadata": {},
   "outputs": [
    {
     "data": {
      "text/html": [
       "<div>\n",
       "<style scoped>\n",
       "    .dataframe tbody tr th:only-of-type {\n",
       "        vertical-align: middle;\n",
       "    }\n",
       "\n",
       "    .dataframe tbody tr th {\n",
       "        vertical-align: top;\n",
       "    }\n",
       "\n",
       "    .dataframe thead th {\n",
       "        text-align: right;\n",
       "    }\n",
       "</style>\n",
       "<table border=\"1\" class=\"dataframe\">\n",
       "  <thead>\n",
       "    <tr style=\"text-align: right;\">\n",
       "      <th></th>\n",
       "      <th>age</th>\n",
       "      <th>sex</th>\n",
       "      <th>bmi</th>\n",
       "      <th>children</th>\n",
       "      <th>smoker</th>\n",
       "      <th>region</th>\n",
       "      <th>charges</th>\n",
       "    </tr>\n",
       "  </thead>\n",
       "  <tbody>\n",
       "    <tr>\n",
       "      <th>0</th>\n",
       "      <td>19</td>\n",
       "      <td>female</td>\n",
       "      <td>27.900</td>\n",
       "      <td>0</td>\n",
       "      <td>yes</td>\n",
       "      <td>southwest</td>\n",
       "      <td>16.885</td>\n",
       "    </tr>\n",
       "    <tr>\n",
       "      <th>1</th>\n",
       "      <td>18</td>\n",
       "      <td>male</td>\n",
       "      <td>33.770</td>\n",
       "      <td>1</td>\n",
       "      <td>no</td>\n",
       "      <td>southeast</td>\n",
       "      <td>1.726</td>\n",
       "    </tr>\n",
       "    <tr>\n",
       "      <th>2</th>\n",
       "      <td>28</td>\n",
       "      <td>male</td>\n",
       "      <td>33.000</td>\n",
       "      <td>3</td>\n",
       "      <td>no</td>\n",
       "      <td>southeast</td>\n",
       "      <td>4.449</td>\n",
       "    </tr>\n",
       "    <tr>\n",
       "      <th>3</th>\n",
       "      <td>33</td>\n",
       "      <td>male</td>\n",
       "      <td>22.705</td>\n",
       "      <td>0</td>\n",
       "      <td>no</td>\n",
       "      <td>northwest</td>\n",
       "      <td>21.984</td>\n",
       "    </tr>\n",
       "    <tr>\n",
       "      <th>4</th>\n",
       "      <td>32</td>\n",
       "      <td>male</td>\n",
       "      <td>28.880</td>\n",
       "      <td>0</td>\n",
       "      <td>no</td>\n",
       "      <td>northwest</td>\n",
       "      <td>3.867</td>\n",
       "    </tr>\n",
       "  </tbody>\n",
       "</table>\n",
       "</div>"
      ],
      "text/plain": [
       "   age     sex     bmi  children smoker     region  charges\n",
       "0   19  female  27.900         0    yes  southwest   16.885\n",
       "1   18    male  33.770         1     no  southeast    1.726\n",
       "2   28    male  33.000         3     no  southeast    4.449\n",
       "3   33    male  22.705         0     no  northwest   21.984\n",
       "4   32    male  28.880         0     no  northwest    3.867"
      ]
     },
     "execution_count": 2,
     "metadata": {},
     "output_type": "execute_result"
    }
   ],
   "source": [
    "df = pd.read_csv('insurance.csv')\n",
    "df.head()"
   ]
  },
  {
   "cell_type": "code",
   "execution_count": 3,
   "id": "6328484d",
   "metadata": {},
   "outputs": [
    {
     "data": {
      "text/plain": [
       "age         0.299009\n",
       "bmi         0.198341\n",
       "children    0.067997\n",
       "charges     1.000000\n",
       "Name: charges, dtype: float64"
      ]
     },
     "execution_count": 3,
     "metadata": {},
     "output_type": "execute_result"
    }
   ],
   "source": [
    "df.corr(numeric_only=True)['charges']"
   ]
  },
  {
   "cell_type": "code",
   "execution_count": 4,
   "id": "d8947d03",
   "metadata": {},
   "outputs": [],
   "source": [
    "x = df.drop('charges', axis=1).values\n",
    "y = df['charges'].values\n",
    "\n",
    "x_train, x_test, y_train, y_test = train_test_split(x, y, test_size=0.2, random_state=42)"
   ]
  },
  {
   "attachments": {},
   "cell_type": "markdown",
   "id": "5de92e51",
   "metadata": {},
   "source": [
    "# A. Averaging (20 points)"
   ]
  },
  {
   "attachments": {},
   "cell_type": "markdown",
   "id": "5614eb34",
   "metadata": {},
   "source": [
    "<div dir=\"rtl\" style=\"font-size:16px;\">\n",
    "<font face=\"B Yekan\">\n",
    "\n",
    "با استفاده از داده‌های آموزش فقط با میانگین‌گیری از خروجی تخمین هزینه را انجام دهید و خطای تست را در این حالت محاسبه کنید.\n",
    "\n",
    "</div>"
   ]
  },
  {
   "cell_type": "code",
   "execution_count": 5,
   "id": "db0744ee",
   "metadata": {},
   "outputs": [
    {
     "name": "stdout",
     "output_type": "stream",
     "text": [
      "Baseline RMSE on training set:  12.01390040692201\n",
      "Baseline RMSE on test set:  12.46558928031599\n"
     ]
    }
   ],
   "source": [
    "# take the mean of y_train\n",
    "y_train_mean = np.mean(y_train)\n",
    "# calculate the baseline RMSE\n",
    "baseline_rmse_train = np.sqrt(mean_squared_error(y_train, [y_train_mean] * len(y_train)))\n",
    "baseline_rmse_test = np.sqrt(mean_squared_error(y_test, [y_train_mean] * len(y_test)))\n",
    "print('Baseline RMSE on training set: ', baseline_rmse_train)\n",
    "print('Baseline RMSE on test set: ', baseline_rmse_test)"
   ]
  },
  {
   "attachments": {},
   "cell_type": "markdown",
   "id": "6abe3cc3",
   "metadata": {},
   "source": [
    "# B. Linear regression (40 points)"
   ]
  },
  {
   "attachments": {},
   "cell_type": "markdown",
   "id": "b9a667fd",
   "metadata": {},
   "source": [
    "<div dir=\"rtl\" style=\"font-size:16px;\">\n",
    "<font face=\"B Yekan\">\n",
    "یک مدل رگرسیون خطی شامل تمام ویژگی‌ها آموزش دهید. خطای آموزش و تست را گزارش کنید و نتایج را با بخش الف مقایسه کنید. توجه کنید که دادگان حاوی چند ویژگی گروهی هستند که برای استفاده از آن لازم است کدگذاری (encoding) عددی مناسب به کار ببرید. نحوه انجام این کار و نتیجه آن را بیان کنید.\n",
    "</div>"
   ]
  },
  {
   "cell_type": "code",
   "execution_count": 6,
   "id": "152f456c",
   "metadata": {},
   "outputs": [],
   "source": [
    "# use Pipeline to convert categorical features to one-hot encoding then scale the features\n",
    "num_attribs = ['age', 'bmi', 'children']\n",
    "cat_attribs = ['sex', 'smoker', 'region']\n",
    "# find their indices\n",
    "num_attribs_idx = [df.columns.get_loc(c) for c in num_attribs if c in df]\n",
    "cat_attribs_idx = [df.columns.get_loc(c) for c in cat_attribs if c in df]"
   ]
  },
  {
   "cell_type": "code",
   "execution_count": 7,
   "id": "7c734289",
   "metadata": {},
   "outputs": [],
   "source": [
    "# create a pipeline\n",
    "num_pipeline = Pipeline([\n",
    "    ('std_scaler', StandardScaler()),\n",
    "])\n",
    "full_pipeline = ColumnTransformer([\n",
    "    ('num', num_pipeline, num_attribs_idx),\n",
    "    ('cat', OrdinalEncoder(), cat_attribs_idx),\n",
    "])\n",
    "\n",
    "x_train_prepared = full_pipeline.fit_transform(x_train)\n",
    "x_test_prepared = full_pipeline.transform(x_test)"
   ]
  },
  {
   "cell_type": "code",
   "execution_count": 8,
   "id": "2164a8d9",
   "metadata": {},
   "outputs": [
    {
     "name": "stdout",
     "output_type": "stream",
     "text": [
      "Linear Regression RMSE on training set:  6.105794732903362\n",
      "Linear Regression RMSE on test set:  5.799561794657162\n"
     ]
    }
   ],
   "source": [
    "# create a linear regression model\n",
    "lin_reg = LinearRegression()\n",
    "lin_reg.fit(x_train_prepared, y_train)\n",
    "y_train_pred = lin_reg.predict(x_train_prepared)\n",
    "y_test_pred = lin_reg.predict(x_test_prepared)\n",
    "# calculate the RMSE\n",
    "lin_rmse_train = np.sqrt(mean_squared_error(y_train, y_train_pred))\n",
    "lin_rmse_test = np.sqrt(mean_squared_error(y_test, y_test_pred))\n",
    "print('Linear Regression RMSE on training set: ', lin_rmse_train)\n",
    "print('Linear Regression RMSE on test set: ', lin_rmse_test)"
   ]
  }
 ],
 "metadata": {
  "kernelspec": {
   "display_name": "Python 3",
   "language": "python",
   "name": "python3"
  },
  "language_info": {
   "codemirror_mode": {
    "name": "ipython",
    "version": 3
   },
   "file_extension": ".py",
   "mimetype": "text/x-python",
   "name": "python",
   "nbconvert_exporter": "python",
   "pygments_lexer": "ipython3",
   "version": "3.10.10"
  },
  "toc": {
   "base_numbering": 1,
   "nav_menu": {},
   "number_sections": true,
   "sideBar": true,
   "skip_h1_title": false,
   "title_cell": "Table of Contents",
   "title_sidebar": "Contents",
   "toc_cell": false,
   "toc_position": {},
   "toc_section_display": true,
   "toc_window_display": false
  },
  "varInspector": {
   "cols": {
    "lenName": 16,
    "lenType": 16,
    "lenVar": 40
   },
   "kernels_config": {
    "python": {
     "delete_cmd_postfix": "",
     "delete_cmd_prefix": "del ",
     "library": "var_list.py",
     "varRefreshCmd": "print(var_dic_list())"
    },
    "r": {
     "delete_cmd_postfix": ") ",
     "delete_cmd_prefix": "rm(",
     "library": "var_list.r",
     "varRefreshCmd": "cat(var_dic_list()) "
    }
   },
   "types_to_exclude": [
    "module",
    "function",
    "builtin_function_or_method",
    "instance",
    "_Feature"
   ],
   "window_display": false
  },
  "vscode": {
   "interpreter": {
    "hash": "ec21d020fdb83eb2829808c0505e5b33037481656f73549d7749c38a50b0ef23"
   }
  }
 },
 "nbformat": 4,
 "nbformat_minor": 5
}
