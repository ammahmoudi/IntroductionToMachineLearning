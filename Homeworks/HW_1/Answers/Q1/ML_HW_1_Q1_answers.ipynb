{
 "cells": [
  {
   "attachments": {},
   "cell_type": "markdown",
   "id": "5902c1f3",
   "metadata": {},
   "source": [
    "<div dir=rtl align=center>\n",
    "\n",
    "<img src='https://upload.wikimedia.org/wikipedia/fa/thumb/a/a9/Sharif_logo.svg/626px-Sharif_logo.svg.png?20110526112825' alt=\"SUT logo\" width=200 height=200 align=center  >\n",
    "<br>\n",
    "<font face=\"B Yekan\">\n",
    "<font color=0F5298 size=7>\n",
    "یادگیری ماشین<br>\n",
    "<font color=2565AE size=5>\n",
    "دانشکده مهندسی صنایع<br>\n",
    "<font color=2565AE size=4>\n",
    "دکتر مهدی شریف زاده <br>\n",
    "<font  size=4>\n",
    "\n",
    "سعید زواشکیانی\n",
    " <br>\n",
    "بهار 1402<br>\n",
    "\n",
    "<font color=3C99D size=5>\n",
    "تمرین عملی 1\n",
    "<br>\n",
    "سوال 1\n",
    "-غلظت اوزون در لس انجلس\n",
    "<br>\n",
    "100 نمره\n",
    "    \n",
    "    \n",
    "____\n"
   ]
  },
  {
   "attachments": {},
   "cell_type": "markdown",
   "id": "ac560d39",
   "metadata": {},
   "source": [
    "<div dir=\"rtl\" style=\"font-size:16px;\">\n",
    "<font face=\"B Yekan\">\n",
    "داده‌های LAozone.data به همراه فایل راهنمای LAozone.info را در نظر بگیرید. این داده‌ها، شامل ۹ویژگی پیوسته هستند که مقدار اُزن در هوا به عنوان خروجی در نظر گرفته می‌شود. پس از خواندن و آماده‌سازی داده‌ها، سوالات زیر را پیاده سازی نمایید:\n",
    "(برای تمامی قسمت‌ها، ۷۰ درصد داده ها را به صورت تصادفی، به عنوان داده آموزش و ۳۰ درصد دیگر را به عنوان داده تست در نظر بگیرد).\n",
    "\n",
    "</div>"
   ]
  },
  {
   "attachments": {},
   "cell_type": "markdown",
   "id": "ec5c2f08",
   "metadata": {},
   "source": [
    "# Libraries"
   ]
  },
  {
   "cell_type": "code",
   "execution_count": 1,
   "id": "e104a64b",
   "metadata": {},
   "outputs": [],
   "source": [
    "import numpy as np\n",
    "import pandas as pd\n",
    "import matplotlib.pyplot as plt\n",
    "from sklearn.model_selection import train_test_split\n",
    "from sklearn.linear_model import LinearRegression\n",
    "from sklearn.metrics import mean_squared_error\n",
    "from sklearn.preprocessing import StandardScaler\n",
    "from sklearn.model_selection import cross_val_score\n",
    "# add what you want"
   ]
  },
  {
   "attachments": {},
   "cell_type": "markdown",
   "id": "437f821b",
   "metadata": {},
   "source": [
    "# Load data"
   ]
  },
  {
   "cell_type": "code",
   "execution_count": 2,
   "id": "adfff8da",
   "metadata": {},
   "outputs": [
    {
     "data": {
      "text/html": [
       "<div>\n",
       "<style scoped>\n",
       "    .dataframe tbody tr th:only-of-type {\n",
       "        vertical-align: middle;\n",
       "    }\n",
       "\n",
       "    .dataframe tbody tr th {\n",
       "        vertical-align: top;\n",
       "    }\n",
       "\n",
       "    .dataframe thead th {\n",
       "        text-align: right;\n",
       "    }\n",
       "</style>\n",
       "<table border=\"1\" class=\"dataframe\">\n",
       "  <thead>\n",
       "    <tr style=\"text-align: right;\">\n",
       "      <th></th>\n",
       "      <th>ozone</th>\n",
       "      <th>vh</th>\n",
       "      <th>wind</th>\n",
       "      <th>humidity</th>\n",
       "      <th>temp</th>\n",
       "      <th>ibh</th>\n",
       "      <th>dpg</th>\n",
       "      <th>ibt</th>\n",
       "      <th>vis</th>\n",
       "      <th>doy</th>\n",
       "    </tr>\n",
       "  </thead>\n",
       "  <tbody>\n",
       "    <tr>\n",
       "      <th>0</th>\n",
       "      <td>3</td>\n",
       "      <td>5710</td>\n",
       "      <td>4</td>\n",
       "      <td>28</td>\n",
       "      <td>40</td>\n",
       "      <td>2693</td>\n",
       "      <td>-25</td>\n",
       "      <td>87</td>\n",
       "      <td>250</td>\n",
       "      <td>3</td>\n",
       "    </tr>\n",
       "    <tr>\n",
       "      <th>1</th>\n",
       "      <td>5</td>\n",
       "      <td>5700</td>\n",
       "      <td>3</td>\n",
       "      <td>37</td>\n",
       "      <td>45</td>\n",
       "      <td>590</td>\n",
       "      <td>-24</td>\n",
       "      <td>128</td>\n",
       "      <td>100</td>\n",
       "      <td>4</td>\n",
       "    </tr>\n",
       "    <tr>\n",
       "      <th>2</th>\n",
       "      <td>5</td>\n",
       "      <td>5760</td>\n",
       "      <td>3</td>\n",
       "      <td>51</td>\n",
       "      <td>54</td>\n",
       "      <td>1450</td>\n",
       "      <td>25</td>\n",
       "      <td>139</td>\n",
       "      <td>60</td>\n",
       "      <td>5</td>\n",
       "    </tr>\n",
       "    <tr>\n",
       "      <th>3</th>\n",
       "      <td>6</td>\n",
       "      <td>5720</td>\n",
       "      <td>4</td>\n",
       "      <td>69</td>\n",
       "      <td>35</td>\n",
       "      <td>1568</td>\n",
       "      <td>15</td>\n",
       "      <td>121</td>\n",
       "      <td>60</td>\n",
       "      <td>6</td>\n",
       "    </tr>\n",
       "    <tr>\n",
       "      <th>4</th>\n",
       "      <td>4</td>\n",
       "      <td>5790</td>\n",
       "      <td>6</td>\n",
       "      <td>19</td>\n",
       "      <td>45</td>\n",
       "      <td>2631</td>\n",
       "      <td>-33</td>\n",
       "      <td>123</td>\n",
       "      <td>100</td>\n",
       "      <td>7</td>\n",
       "    </tr>\n",
       "  </tbody>\n",
       "</table>\n",
       "</div>"
      ],
      "text/plain": [
       "   ozone    vh  wind  humidity  temp   ibh  dpg  ibt  vis  doy\n",
       "0      3  5710     4        28    40  2693  -25   87  250    3\n",
       "1      5  5700     3        37    45   590  -24  128  100    4\n",
       "2      5  5760     3        51    54  1450   25  139   60    5\n",
       "3      6  5720     4        69    35  1568   15  121   60    6\n",
       "4      4  5790     6        19    45  2631  -33  123  100    7"
      ]
     },
     "execution_count": 2,
     "metadata": {},
     "output_type": "execute_result"
    }
   ],
   "source": [
    "# load the dataset (the first line is the name of columns)\n",
    "df = pd.read_csv('laozone.data', header=0)\n",
    "df.head()"
   ]
  },
  {
   "cell_type": "code",
   "execution_count": 3,
   "id": "13ae7c56",
   "metadata": {},
   "outputs": [
    {
     "name": "stdout",
     "output_type": "stream",
     "text": [
      "These data record the level of atmospheric ozone concentration from\n",
      "eight daily meteorological measurements made in the Los Angeles basin\n",
      "in 1976.  Although measurements were made every day that year, some\n",
      "observations were missing; here we have the 330 complete cases.  The\n",
      "data were given to us by Leo Breiman; he was a consultant on a project\n",
      "from which these data are taken.  The response, referred to as ozone,\n",
      "is actually the log of the daily maximum of the hourly-average ozone\n",
      "concentrations in Upland, California.\n",
      "\n",
      "\n",
      "Detailed variable names:\n",
      "\n",
      "ozone : Upland Maximum Ozone\n",
      "vh : Vandenberg 500 mb Height\n",
      "wind : Wind Speed (mph)\n",
      "humidity : Humidity (%)\n",
      "temp : Sandburg AFB Temperature\n",
      "ibh : Inversion Base Height\n",
      "dpg : Daggot Pressure Gradient\n",
      "ibt : Inversion Base Temperature\n",
      "vis : Visibility (miles)\n",
      "doy : Day of the Year\n",
      "\n"
     ]
    }
   ],
   "source": [
    "# read the Laozone.info file\n",
    "with open('Laozone.info') as f:\n",
    "    print(f.read())"
   ]
  },
  {
   "cell_type": "code",
   "execution_count": 4,
   "id": "09c68539",
   "metadata": {},
   "outputs": [],
   "source": [
    "# split into x, y\n",
    "x = df.drop('ozone', axis=1).values\n",
    "y = df['ozone'].values\n",
    "# split into train and test\n",
    "x_train, x_test, y_train, y_test = train_test_split(x, y, test_size=0.3, random_state=42)\n",
    "# scale the data\n",
    "scaler = StandardScaler()\n",
    "x_train = scaler.fit_transform(x_train)\n",
    "x_test = scaler.transform(x_test)"
   ]
  },
  {
   "attachments": {},
   "cell_type": "markdown",
   "id": "5de92e51",
   "metadata": {},
   "source": [
    "# A. Linear Regression with All features (25 points)"
   ]
  },
  {
   "attachments": {},
   "cell_type": "markdown",
   "id": "5614eb34",
   "metadata": {},
   "source": [
    "<div dir=\"rtl\" style=\"font-size:16px;\">\n",
    "<font face=\"B Yekan\">\n",
    "\n",
    " رگرسیون خطی را اعمال کنید، ضرایب رگرسیون و خطای میانگین مجموع مربعات را برای داده های آموزش و تست بدست آورید.\n",
    "\n",
    "</div>"
   ]
  },
  {
   "cell_type": "code",
   "execution_count": 5,
   "id": "db0744ee",
   "metadata": {},
   "outputs": [
    {
     "name": "stdout",
     "output_type": "stream",
     "text": [
      "Mean squared error:  20.228997795555973\n",
      "Mean squared error for test data:  21.615809047155736\n",
      "Coefficients:  [-0.69712805 -0.21425145  1.41856833  3.9444381  -1.17707596  0.04375913\n",
      "  1.79363593 -0.55678553 -0.94013268]\n",
      "Intercept:  11.67965367965368\n"
     ]
    }
   ],
   "source": [
    "# train a linear regression model using cross validation\n",
    "lr = LinearRegression()\n",
    "mse = cross_val_score(lr, x_train, y_train, cv=5, scoring='neg_mean_squared_error')\n",
    "print('Mean squared error: ', -np.mean(mse))\n",
    "# print mean squared error for test data\n",
    "lr.fit(x_train, y_train)\n",
    "y_pred = lr.predict(x_test)\n",
    "print('Mean squared error for test data: ', mean_squared_error(y_test, y_pred))\n",
    "# print the coefficients\n",
    "print('Coefficients: ', lr.coef_)\n",
    "# print the intercept\n",
    "print('Intercept: ', lr.intercept_)"
   ]
  },
  {
   "attachments": {},
   "cell_type": "markdown",
   "id": "6abe3cc3",
   "metadata": {},
   "source": [
    "# B. Linear regression with one feature (25 points)"
   ]
  },
  {
   "attachments": {},
   "cell_type": "markdown",
   "id": "b9a667fd",
   "metadata": {},
   "source": [
    "<div dir=\"rtl\" style=\"font-size:16px;\">\n",
    "<font face=\"B Yekan\">\n",
    "\n",
    "به دلخواه یکی از ویژگی ها که حدس می زنید ارتباط بیشتری با خروجی دارد را انتخاب کنید و رگرسیون خطی یک بعدی را انجام دهید. خطای میانگین مجموع مربعات را برای داده های آموزش و تست اعلام نموده و داده ها و خط برازش شده را در یک نمودار رسم کنید.\n",
    "</div>"
   ]
  },
  {
   "cell_type": "code",
   "execution_count": 6,
   "id": "45d53059",
   "metadata": {},
   "outputs": [
    {
     "data": {
      "text/plain": [
       "ozone       1.000000\n",
       "temp        0.780703\n",
       "ibt         0.745578\n",
       "vh          0.607344\n",
       "humidity    0.449224\n",
       "dpg         0.214046\n",
       "doy         0.066200\n",
       "wind       -0.013414\n",
       "vis        -0.440989\n",
       "ibh        -0.589534\n",
       "Name: ozone, dtype: float64"
      ]
     },
     "execution_count": 6,
     "metadata": {},
     "output_type": "execute_result"
    }
   ],
   "source": [
    "# show the correlation between features and the target\n",
    "df.corr()['ozone'].sort_values(ascending=False)"
   ]
  },
  {
   "cell_type": "code",
   "execution_count": 7,
   "id": "152f456c",
   "metadata": {},
   "outputs": [
    {
     "name": "stdout",
     "output_type": "stream",
     "text": [
      "Mean squared error:  25.316401684576782\n",
      "Mean squared error for test data:  25.167156462744057\n",
      "Coefficients:  [6.1662787]\n",
      "Intercept:  11.679653679653677\n"
     ]
    }
   ],
   "source": [
    "x_temp_train = x_train[:, 3].reshape(-1, 1)\n",
    "x_temp_test = x_test[:, 3].reshape(-1, 1)\n",
    "lr = LinearRegression()\n",
    "mse = cross_val_score(lr, x_temp_train, y_train, cv=5, scoring='neg_mean_squared_error')\n",
    "print('Mean squared error: ', -np.mean(mse))\n",
    "# print mean squared error for test data\n",
    "lr.fit(x_temp_train, y_train)\n",
    "y_pred = lr.predict(x_temp_test)\n",
    "print('Mean squared error for test data: ', mean_squared_error(y_test, y_pred))\n",
    "# print the coefficients\n",
    "print('Coefficients: ', lr.coef_)\n",
    "# print the intercept\n",
    "print('Intercept: ', lr.intercept_)"
   ]
  },
  {
   "cell_type": "code",
   "execution_count": 8,
   "id": "00d43850",
   "metadata": {},
   "outputs": [
    {
     "data": {
      "image/png": "[encoded data removed]",
      "text/plain": [
       "<Figure size 640x480 with 1 Axes>"
      ]
     },
     "metadata": {},
     "output_type": "display_data"
    }
   ],
   "source": [
    "# plot the temperature vs ozone data and the linear regression line\n",
    "plt.scatter(x_temp_train, y_train, color='red')\n",
    "plt.plot(x_temp_train, lr.predict(x_temp_train), color='blue')\n",
    "plt.title('Temperature vs Ozone')\n",
    "plt.xlabel('Temperature')\n",
    "plt.ylabel('Ozone')\n",
    "plt.show()"
   ]
  },
  {
   "attachments": {},
   "cell_type": "markdown",
   "id": "6b7d2ee6",
   "metadata": {},
   "source": [
    "# C. Linear regression on splitted data by median (50 points)"
   ]
  },
  {
   "attachments": {},
   "cell_type": "markdown",
   "id": "eada2522",
   "metadata": {},
   "source": [
    "<div dir=\"rtl\" style=\"font-size:16px;\">\n",
    "<font face=\"B Yekan\">\n",
    "با در نظر گرفتن ویژگی انتخاب شده در قسمت (ب)، محدوده ویژگی مورد نظر را به دو قسمت تقسیم کنید طوری که تعداد داده ها در هر دو دسته تقریبا برابر باشد. (برای مثال اگر محدوده داده بدست آمده بین ۰ تا ۱۰۰ بود و داده های بین ۰ تا ۴۰ و داده های بین ۴۰ تا ۱۰۰ تقریبا از نظر تعداد با هم برابر هستند، محدوده این ویژگی را از نقطه ۴۰ به دو قسمت تقسیم کنید). سپس برای هر کدام از قسمتها، رگرسیون خطی را اعمال کرده و خطای میانگین مجموع مربعات را برای داده های آموزش و تست را محاسبه نمایید. داده ها و خطوط برازش شده را در یک نمودار رسم کنید. سپس نتایج بدست آمده را با قسمت (ب) مقایسه نموده و اختلاف یا شباهت را بررسی نمایید.\n",
    "</div>"
   ]
  },
  {
   "cell_type": "code",
   "execution_count": 9,
   "id": "b121514a",
   "metadata": {},
   "outputs": [
    {
     "name": "stdout",
     "output_type": "stream",
     "text": [
      "Mean squared error:  21.9411598231583\n"
     ]
    }
   ],
   "source": [
    "# now split data into half with the median temperature and fit a linear regression model on each half and print the total mean squared error\n",
    "median = np.median(x_temp_train)\n",
    "x_temp_train1 = x_temp_train[x_temp_train < median].reshape(-1, 1)\n",
    "x_temp_train2 = x_temp_train[x_temp_train >= median].reshape(-1, 1)\n",
    "y_train1 = y_train[(x_temp_train < median).reshape(-1)]\n",
    "y_train2 = y_train[(x_temp_train >= median).reshape(-1)]\n",
    "lr1 = LinearRegression()\n",
    "lr1.fit(x_temp_train1, y_train1)\n",
    "lr2 = LinearRegression()\n",
    "lr2.fit(x_temp_train2, y_train2)\n",
    "y_pred1 = lr1.predict(x_temp_train1)\n",
    "y_pred2 = lr2.predict(x_temp_train2)\n",
    "mse1 = mean_squared_error(y_train1, y_pred1)\n",
    "mse2 = mean_squared_error(y_train2, y_pred2)\n",
    "print('Mean squared error: ', (mse1 + mse2) / 2)"
   ]
  },
  {
   "cell_type": "code",
   "execution_count": 10,
   "id": "1795ad72",
   "metadata": {},
   "outputs": [
    {
     "data": {
      "image/png": "[encoded data removed]",
      "text/plain": [
       "<Figure size 640x480 with 1 Axes>"
      ]
     },
     "metadata": {},
     "output_type": "display_data"
    }
   ],
   "source": [
    "# plot the temperature vs ozone data and the linear regression line\n",
    "plt.scatter(x_temp_train, y_train, color='red')\n",
    "plt.plot(x_temp_train1, lr1.predict(x_temp_train1), color='blue')\n",
    "plt.plot(x_temp_train2, lr2.predict(x_temp_train2), color='blue')\n",
    "plt.title('Temperature vs Ozone')\n",
    "plt.xlabel('Temperature')\n",
    "plt.ylabel('Ozone')\n",
    "plt.show()"
   ]
  },
  {
   "cell_type": "code",
   "execution_count": 11,
   "id": "c072b961",
   "metadata": {},
   "outputs": [
    {
     "name": "stdout",
     "output_type": "stream",
     "text": [
      "Mean squared error:  21.29393615530839\n"
     ]
    }
   ],
   "source": [
    "# now evaluate the performance of the linear regression model using the test data\n",
    "y_pred1 = lr1.predict(x_temp_test[x_temp_test < median].reshape(-1, 1))\n",
    "y_pred2 = lr2.predict(x_temp_test[x_temp_test >= median].reshape(-1, 1))\n",
    "mse1 = mean_squared_error(y_test[(x_temp_test < median).reshape(-1)], y_pred1)\n",
    "mse2 = mean_squared_error(y_test[(x_temp_test >= median).reshape(-1)], y_pred2)\n",
    "print('Mean squared error: ', (mse1 + mse2) / 2)"
   ]
  }
 ],
 "metadata": {
  "kernelspec": {
   "display_name": "Python 3",
   "language": "python",
   "name": "python3"
  },
  "language_info": {
   "codemirror_mode": {
    "name": "ipython",
    "version": 3
   },
   "file_extension": ".py",
   "mimetype": "text/x-python",
   "name": "python",
   "nbconvert_exporter": "python",
   "pygments_lexer": "ipython3",
   "version": "3.10.10"
  },
  "toc": {
   "base_numbering": 1,
   "nav_menu": {},
   "number_sections": true,
   "sideBar": true,
   "skip_h1_title": false,
   "title_cell": "Table of Contents",
   "title_sidebar": "Contents",
   "toc_cell": false,
   "toc_position": {},
   "toc_section_display": true,
   "toc_window_display": false
  },
  "varInspector": {
   "cols": {
    "lenName": 16,
    "lenType": 16,
    "lenVar": 40
   },
   "kernels_config": {
    "python": {
     "delete_cmd_postfix": "",
     "delete_cmd_prefix": "del ",
     "library": "var_list.py",
     "varRefreshCmd": "print(var_dic_list())"
    },
    "r": {
     "delete_cmd_postfix": ") ",
     "delete_cmd_prefix": "rm(",
     "library": "var_list.r",
     "varRefreshCmd": "cat(var_dic_list()) "
    }
   },
   "types_to_exclude": [
    "module",
    "function",
    "builtin_function_or_method",
    "instance",
    "_Feature"
   ],
   "window_display": false
  },
  "vscode": {
   "interpreter": {
    "hash": "ec21d020fdb83eb2829808c0505e5b33037481656f73549d7749c38a50b0ef23"
   }
  }
 },
 "nbformat": 4,
 "nbformat_minor": 5
}
