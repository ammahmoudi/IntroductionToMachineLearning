{
 "cells": [
  {
   "attachments": {},
   "cell_type": "markdown",
   "id": "5902c1f3",
   "metadata": {},
   "source": [
    "<div dir=rtl align=center>\n",
    "\n",
    "<img src='https://upload.wikimedia.org/wikipedia/fa/thumb/a/a9/Sharif_logo.svg/626px-Sharif_logo.svg.png?20110526112825' alt=\"SUT logo\" width=200 height=200 align=center  >\n",
    "<br>\n",
    "<font face=\"B Yekan\">\n",
    "<font color=0F5298 size=7>\n",
    "یادگیری ماشین<br>\n",
    "<font color=2565AE size=5>\n",
    "دانشکده مهندسی صنایع<br>\n",
    "<font color=2565AE size=4>\n",
    "دکتر مهدی شریف زاده <br>\n",
    "<font  size=4>\n",
    "\n",
    "سعید زواشکیانی\n",
    " <br>\n",
    "بهار 1402<br>\n",
    "\n",
    "<font color=3C99D size=5>\n",
    "تمرین عملی 1\n",
    "<br>\n",
    "سوال 2\n",
    "- هزینه سالانه بیمه درمانی\n",
    "<br>\n",
    "80 نمره\n",
    "    \n",
    "    \n",
    "____\n"
   ]
  },
  {
   "attachments": {},
   "cell_type": "markdown",
   "id": "5e85f16a",
   "metadata": {},
   "source": [
    "### Full Name : \n",
    "\n",
    "### Student Number : \n",
    "\n",
    "---\n"
   ]
  },
  {
   "attachments": {},
   "cell_type": "markdown",
   "id": "ac560d39",
   "metadata": {},
   "source": [
    "<div dir=\"rtl\" style=\"font-size:16px;\">\n",
    "<font face=\"B Yekan\">\n",
    "فایل insurance.csv شامل ۶ ویژگی (شامل متغیرها عددی و گروهی (categorical)) از افراد مختلف است که هزینه سالانه بیمه درمانی این افراد (ستون charges بر حسب هزار دلار) در این فایل ثبت شده‌است. هدف، تخمین این هزینه با استفاده از ۶ ویژگی است.\n",
    "\n",
    "</div>"
   ]
  },
  {
   "attachments": {},
   "cell_type": "markdown",
   "id": "ec5c2f08",
   "metadata": {},
   "source": [
    "# Libraries"
   ]
  },
  {
   "cell_type": "code",
   "execution_count": null,
   "id": "e104a64b",
   "metadata": {},
   "outputs": [],
   "source": [
    "import numpy as np\n",
    "import pandas as pd\n",
    "from sklearn.model_selection import train_test_split\n",
    "from sklearn.linear_model import LinearRegression\n",
    "from sklearn.metrics import mean_squared_error\n",
    "from sklearn.preprocessing import StandardScaler\n",
    "from sklearn.pipeline import Pipeline\n",
    "from sklearn.compose import ColumnTransformer\n",
    "from sklearn.preprocessing import OneHotEncoder\n",
    "from sklearn.preprocessing import OrdinalEncoder\n",
    "# add what you want"
   ]
  },
  {
   "attachments": {},
   "cell_type": "markdown",
   "id": "437f821b",
   "metadata": {},
   "source": [
    "# Load data"
   ]
  },
  {
   "cell_type": "code",
   "execution_count": null,
   "id": "adfff8da",
   "metadata": {},
   "outputs": [],
   "source": [
    "#TODO"
   ]
  },
  {
   "attachments": {},
   "cell_type": "markdown",
   "id": "5de92e51",
   "metadata": {},
   "source": [
    "# A. Averaging (20 points)"
   ]
  },
  {
   "attachments": {},
   "cell_type": "markdown",
   "id": "5614eb34",
   "metadata": {},
   "source": [
    "<div dir=\"rtl\" style=\"font-size:16px;\">\n",
    "<font face=\"B Yekan\">\n",
    "\n",
    "با استفاده از داده‌های آموزش فقط با میانگین‌گیری از خروجی تخمین هزینه را انجام دهید و خطای تست را در این حالت محاسبه کنید.\n",
    "\n",
    "</div>"
   ]
  },
  {
   "cell_type": "code",
   "execution_count": null,
   "id": "db0744ee",
   "metadata": {},
   "outputs": [],
   "source": [
    "#TODO"
   ]
  },
  {
   "attachments": {},
   "cell_type": "markdown",
   "id": "6abe3cc3",
   "metadata": {},
   "source": [
    "# B. Linear regression (40 points)"
   ]
  },
  {
   "attachments": {},
   "cell_type": "markdown",
   "id": "b9a667fd",
   "metadata": {},
   "source": [
    "<div dir=\"rtl\" style=\"font-size:16px;\">\n",
    "<font face=\"B Yekan\">\n",
    "یک مدل رگرسیون خطی شامل تمام ویژگی‌ها آموزش دهید. خطای آموزش و تست را گزارش کنید و نتایج را با بخش الف مقایسه کنید. توجه کنید که دادگان حاوی چند ویژگی گروهی هستند که برای استفاده از آن لازم است کدگذاری (encoding) عددی مناسب به کار ببرید. نحوه انجام این کار و نتیجه آن را بیان کنید.\n",
    "</div>"
   ]
  },
  {
   "cell_type": "code",
   "execution_count": null,
   "id": "152f456c",
   "metadata": {},
   "outputs": [],
   "source": [
    "#TODO"
   ]
  }
 ],
 "metadata": {
  "kernelspec": {
   "display_name": "Python 3",
   "language": "python",
   "name": "python3"
  },
  "language_info": {
   "codemirror_mode": {
    "name": "ipython",
    "version": 3
   },
   "file_extension": ".py",
   "mimetype": "text/x-python",
   "name": "python",
   "nbconvert_exporter": "python",
   "pygments_lexer": "ipython3",
   "version": "3.10.10"
  },
  "toc": {
   "base_numbering": 1,
   "nav_menu": {},
   "number_sections": true,
   "sideBar": true,
   "skip_h1_title": false,
   "title_cell": "Table of Contents",
   "title_sidebar": "Contents",
   "toc_cell": false,
   "toc_position": {},
   "toc_section_display": true,
   "toc_window_display": false
  },
  "varInspector": {
   "cols": {
    "lenName": 16,
    "lenType": 16,
    "lenVar": 40
   },
   "kernels_config": {
    "python": {
     "delete_cmd_postfix": "",
     "delete_cmd_prefix": "del ",
     "library": "var_list.py",
     "varRefreshCmd": "print(var_dic_list())"
    },
    "r": {
     "delete_cmd_postfix": ") ",
     "delete_cmd_prefix": "rm(",
     "library": "var_list.r",
     "varRefreshCmd": "cat(var_dic_list()) "
    }
   },
   "types_to_exclude": [
    "module",
    "function",
    "builtin_function_or_method",
    "instance",
    "_Feature"
   ],
   "window_display": false
  },
  "vscode": {
   "interpreter": {
    "hash": "ec21d020fdb83eb2829808c0505e5b33037481656f73549d7749c38a50b0ef23"
   }
  }
 },
 "nbformat": 4,
 "nbformat_minor": 5
}
