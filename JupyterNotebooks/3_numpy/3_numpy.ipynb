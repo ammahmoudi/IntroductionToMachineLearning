{
 "cells": [
  {
   "cell_type": "markdown",
   "id": "ff870952",
   "metadata": {},
   "source": [
    "<div dir=\"rtl\" align=\"center\">\n",
    "<font face=\"B Yekan\" size=4>\n",
    "    <font face=\"IranNastaliq\" size=5>\n",
    "      به نام خدا\n",
    "    </font>\n",
    "    <br>\n",
    "    <font size=3>\n",
    "    دانشکده صنایع دانشگاه صنعتی شریف\n",
    "    </font>\n",
    "    <br>\n",
    "    <font color=blue size=5>\n",
    "      یادگیری ماشین\n",
    "    </font>\n",
    "    <br>\n",
    "    <hr/>\n",
    "    <font color=red size=6>\n",
    "یادآوری از کتابخانه numpy\n",
    "    </font>\n",
    "    <hr/>\n",
    "    <br>\n",
    "      نویسنده:‌ رضا الوندی\n",
    "    <hr>\n"
   ]
  },
  {
   "cell_type": "markdown",
   "id": "975fc5b4",
   "metadata": {},
   "source": [
    "<h1>Getting Started</h1>"
   ]
  },
  {
   "cell_type": "markdown",
   "id": "8800f0e3",
   "metadata": {},
   "source": [
    "Numpy is the core library for scientific computing in Python. It provides a high-performance multidimensional array object, and tools for working with these arrays. If you are already familiar with MATLAB, you might find this tutorial useful to get started with Numpy."
   ]
  },
  {
   "cell_type": "markdown",
   "id": "f8ad3505",
   "metadata": {},
   "source": [
    "<h2>Arrays</h2>\n",
    "A numpy array is a grid of values, all of the same type, and is indexed by a tuple of nonnegative integers. The number of dimensions is the rank of the array; the shape of an array is a tuple of integers giving the size of the array along each dimension.\n",
    "\n",
    "We can initialize numpy arrays from nested Python lists, and access elements using square brackets"
   ]
  },
  {
   "cell_type": "code",
   "execution_count": 7,
   "id": "ff7d7e14",
   "metadata": {},
   "outputs": [
    {
     "name": "stdout",
     "output_type": "stream",
     "text": [
      "<class 'numpy.ndarray'>\n",
      "(3,)\n",
      "1 2 3\n",
      "[5 2 3]\n",
      "(2, 3)\n",
      "1 2 4\n"
     ]
    }
   ],
   "source": [
    "import numpy as np\n",
    "\n",
    "a = np.array([1, 2, 3])   # Create a rank 1 array\n",
    "print(type(a))            # Prints \"<class 'numpy.ndarray'>\"\n",
    "print(a.shape)            # Prints \"(3,)\"\n",
    "print(a[0], a[1], a[2])   # Prints \"1 2 3\"\n",
    "a[0] = 5                  # Change an element of the array\n",
    "print(a)                  # Prints \"[5, 2, 3]\"\n",
    "\n",
    "b = np.array([[1,2,3],[4,5,6]])    # Create a rank 2 array\n",
    "print(b.shape)                     # Prints \"(2, 3)\"\n",
    "print(b[0, 0], b[0, 1], b[1, 0])   # Prints \"1 2 4\""
   ]
  },
  {
   "cell_type": "markdown",
   "id": "8fc9fbc1",
   "metadata": {},
   "source": [
    "Numpy also provides many functions to create arrays:"
   ]
  },
  {
   "cell_type": "code",
   "execution_count": 8,
   "id": "e377b41a",
   "metadata": {},
   "outputs": [
    {
     "name": "stdout",
     "output_type": "stream",
     "text": [
      "[[0. 0.]\n",
      " [0. 0.]]\n",
      "[[1. 1.]]\n",
      "[[7 7]\n",
      " [7 7]]\n",
      "[[1. 0.]\n",
      " [0. 1.]]\n",
      "[[0.53225557 0.73183044]\n",
      " [0.50492392 0.26046793]]\n"
     ]
    }
   ],
   "source": [
    "import numpy as np\n",
    "\n",
    "a = np.zeros((2,2))   # Create an array of all zeros\n",
    "print(a)              # Prints \"[[ 0.  0.]\n",
    "                      #          [ 0.  0.]]\"\n",
    "\n",
    "b = np.ones((1,2))    # Create an array of all ones\n",
    "print(b)              # Prints \"[[ 1.  1.]]\"\n",
    "\n",
    "c = np.full((2,2), 7)  # Create a constant array\n",
    "print(c)               # Prints \"[[ 7.  7.]\n",
    "                       #          [ 7.  7.]]\"\n",
    "\n",
    "d = np.eye(2)         # Create a 2x2 identity matrix\n",
    "print(d)              # Prints \"[[ 1.  0.]\n",
    "                      #          [ 0.  1.]]\"\n",
    "\n",
    "e = np.random.random((2,2))  # Create an array filled with random values\n",
    "print(e)                     # Might print \"[[ 0.91940167  0.08143941]\n",
    "                             #               [ 0.68744134  0.87236687]]\""
   ]
  },
  {
   "cell_type": "markdown",
   "id": "013d9426",
   "metadata": {},
   "source": [
    "You can read about other methods of array creation in the <a href=\"http://docs.scipy.org/doc/numpy/user/basics.creation.html#arrays-creation\">documentation </a>."
   ]
  },
  {
   "cell_type": "markdown",
   "id": "a4c47110",
   "metadata": {},
   "source": [
    "<h2>Array indexing</h2>"
   ]
  },
  {
   "cell_type": "markdown",
   "id": "0ef20f4b",
   "metadata": {},
   "source": [
    "Numpy offers several ways to index into arrays.\n",
    "\n"
   ]
  },
  {
   "cell_type": "markdown",
   "id": "404e3d3d",
   "metadata": {},
   "source": [
    "<b>Slicing</b>: Similar to Python lists, numpy arrays can be sliced. Since arrays may be multidimensional, you must specify a slice for each dimension of the array:"
   ]
  },
  {
   "cell_type": "code",
   "execution_count": 9,
   "id": "6c0ea982",
   "metadata": {},
   "outputs": [
    {
     "name": "stdout",
     "output_type": "stream",
     "text": [
      "2\n",
      "77\n"
     ]
    }
   ],
   "source": [
    "import numpy as np\n",
    "\n",
    "# Create the following rank 2 array with shape (3, 4)\n",
    "# [[ 1  2  3  4]\n",
    "#  [ 5  6  7  8]\n",
    "#  [ 9 10 11 12]]\n",
    "a = np.array([[1,2,3,4], [5,6,7,8], [9,10,11,12]])\n",
    "\n",
    "# Use slicing to pull out the subarray consisting of the first 2 rows\n",
    "# and columns 1 and 2; b is the following array of shape (2, 2):\n",
    "# [[2 3]\n",
    "#  [6 7]]\n",
    "b = a[:2, 1:3]\n",
    "\n",
    "# A slice of an array is a view into the same data, so modifying it\n",
    "# will modify the original array.\n",
    "print(a[0, 1])   # Prints \"2\"\n",
    "b[0, 0] = 77     # b[0, 0] is the same piece of data as a[0, 1]\n",
    "print(a[0, 1])   # Prints \"77\""
   ]
  },
  {
   "cell_type": "markdown",
   "id": "dcf3ec75",
   "metadata": {},
   "source": [
    "You can also mix integer indexing with slice indexing. However, doing so will yield an array of lower rank than the original array. Note that this is quite different from the way that MATLAB handles array slicing:"
   ]
  },
  {
   "cell_type": "code",
   "execution_count": 10,
   "id": "09d3a09f",
   "metadata": {},
   "outputs": [
    {
     "name": "stdout",
     "output_type": "stream",
     "text": [
      "[5 6 7 8] (4,)\n",
      "[[5 6 7 8]] (1, 4)\n",
      "[ 2  6 10] (3,)\n",
      "[[ 2]\n",
      " [ 6]\n",
      " [10]] (3, 1)\n"
     ]
    }
   ],
   "source": [
    "import numpy as np\n",
    "\n",
    "# Create the following rank 2 array with shape (3, 4)\n",
    "# [[ 1  2  3  4]\n",
    "#  [ 5  6  7  8]\n",
    "#  [ 9 10 11 12]]\n",
    "a = np.array([[1,2,3,4], [5,6,7,8], [9,10,11,12]])\n",
    "\n",
    "# Two ways of accessing the data in the middle row of the array.\n",
    "# Mixing integer indexing with slices yields an array of lower rank,\n",
    "# while using only slices yields an array of the same rank as the\n",
    "# original array:\n",
    "row_r1 = a[1, :]    # Rank 1 view of the second row of a\n",
    "row_r2 = a[1:2, :]  # Rank 2 view of the second row of a\n",
    "print(row_r1, row_r1.shape)  # Prints \"[5 6 7 8] (4,)\"\n",
    "print(row_r2, row_r2.shape)  # Prints \"[[5 6 7 8]] (1, 4)\"\n",
    "\n",
    "# We can make the same distinction when accessing columns of an array:\n",
    "col_r1 = a[:, 1]\n",
    "col_r2 = a[:, 1:2]\n",
    "print(col_r1, col_r1.shape)  # Prints \"[ 2  6 10] (3,)\"\n",
    "print(col_r2, col_r2.shape)  # Prints \"[[ 2]\n",
    "                             #          [ 6]\n",
    "                             #          [10]] (3, 1)\""
   ]
  },
  {
   "cell_type": "markdown",
   "id": "9e15e9b6",
   "metadata": {},
   "source": [
    "<b>Integer array indexing:</b> When you index into numpy arrays using slicing, the resulting array view will always be a subarray of the original array. In contrast, integer array indexing allows you to construct arbitrary arrays using the data from another array. Here is an example:"
   ]
  },
  {
   "cell_type": "code",
   "execution_count": 11,
   "id": "fb95577b",
   "metadata": {},
   "outputs": [
    {
     "name": "stdout",
     "output_type": "stream",
     "text": [
      "[1 4 5]\n",
      "[1 4 5]\n",
      "[2 2]\n",
      "[2 2]\n"
     ]
    }
   ],
   "source": [
    "import numpy as np\n",
    "\n",
    "a = np.array([[1,2], [3, 4], [5, 6]])\n",
    "\n",
    "# An example of integer array indexing.\n",
    "# The returned array will have shape (3,) and\n",
    "print(a[[0, 1, 2], [0, 1, 0]])  # Prints \"[1 4 5]\"\n",
    "\n",
    "# The above example of integer array indexing is equivalent to this:\n",
    "print(np.array([a[0, 0], a[1, 1], a[2, 0]]))  # Prints \"[1 4 5]\"\n",
    "\n",
    "# When using integer array indexing, you can reuse the same\n",
    "# element from the source array:\n",
    "print(a[[0, 0], [1, 1]])  # Prints \"[2 2]\"\n",
    "\n",
    "# Equivalent to the previous integer array indexing example\n",
    "print(np.array([a[0, 1], a[0, 1]]))  # Prints \"[2 2]\""
   ]
  },
  {
   "cell_type": "markdown",
   "id": "21a8ecfc",
   "metadata": {},
   "source": [
    "One useful trick with integer array indexing is selecting or mutating one element from each row of a matrix:"
   ]
  },
  {
   "cell_type": "code",
   "execution_count": 12,
   "id": "0c44fadb",
   "metadata": {},
   "outputs": [
    {
     "name": "stdout",
     "output_type": "stream",
     "text": [
      "[[ 1  2  3]\n",
      " [ 4  5  6]\n",
      " [ 7  8  9]\n",
      " [10 11 12]]\n",
      "[ 1  6  7 11]\n",
      "[[11  2  3]\n",
      " [ 4  5 16]\n",
      " [17  8  9]\n",
      " [10 21 12]]\n"
     ]
    }
   ],
   "source": [
    "import numpy as np\n",
    "\n",
    "# Create a new array from which we will select elements\n",
    "a = np.array([[1,2,3], [4,5,6], [7,8,9], [10, 11, 12]])\n",
    "\n",
    "print(a)  # prints \"array([[ 1,  2,  3],\n",
    "          #                [ 4,  5,  6],\n",
    "          #                [ 7,  8,  9],\n",
    "          #                [10, 11, 12]])\"\n",
    "\n",
    "# Create an array of indices\n",
    "b = np.array([0, 2, 0, 1])\n",
    "\n",
    "# Select one element from each row of a using the indices in b\n",
    "print(a[np.arange(4), b])  # Prints \"[ 1  6  7 11]\"\n",
    "\n",
    "# Mutate one element from each row of a using the indices in b\n",
    "a[np.arange(4), b] += 10\n",
    "\n",
    "print(a)  # prints \"array([[11,  2,  3],\n",
    "          #                [ 4,  5, 16],\n",
    "          #                [17,  8,  9],\n",
    "          #                [10, 21, 12]])"
   ]
  },
  {
   "cell_type": "markdown",
   "id": "da81e1a5",
   "metadata": {},
   "source": [
    "<b>Boolean array indexing:</b> Boolean array indexing lets you pick out arbitrary elements of an array. Frequently this type of indexing is used to select the elements of an array that satisfy some condition. Here is an example:"
   ]
  },
  {
   "cell_type": "code",
   "execution_count": 13,
   "id": "aa457057",
   "metadata": {},
   "outputs": [
    {
     "name": "stdout",
     "output_type": "stream",
     "text": [
      "[[False False]\n",
      " [ True  True]\n",
      " [ True  True]]\n",
      "[3 4 5 6]\n",
      "[3 4 5 6]\n"
     ]
    }
   ],
   "source": [
    "import numpy as np\n",
    "\n",
    "a = np.array([[1,2], [3, 4], [5, 6]])\n",
    "\n",
    "bool_idx = (a > 2)   # Find the elements of a that are bigger than 2;\n",
    "                     # this returns a numpy array of Booleans of the same\n",
    "                     # shape as a, where each slot of bool_idx tells\n",
    "                     # whether that element of a is > 2.\n",
    "\n",
    "print(bool_idx)      # Prints \"[[False False]\n",
    "                     #          [ True  True]\n",
    "                     #          [ True  True]]\"\n",
    "\n",
    "# We use boolean array indexing to construct a rank 1 array\n",
    "# consisting of the elements of a corresponding to the True values\n",
    "# of bool_idx\n",
    "print(a[bool_idx])  # Prints \"[3 4 5 6]\"\n",
    "\n",
    "# We can do all of the above in a single concise statement:\n",
    "print(a[a > 2])     # Prints \"[3 4 5 6]\""
   ]
  },
  {
   "cell_type": "markdown",
   "id": "93bf63b8",
   "metadata": {},
   "source": [
    "For brevity we have left out a lot of details about numpy array indexing; if you want to know more you should read the <a href=\"http://docs.scipy.org/doc/numpy/reference/arrays.indexing.html\">documentation</a>."
   ]
  },
  {
   "cell_type": "markdown",
   "id": "7fc38b20",
   "metadata": {},
   "source": [
    "<h2>Datatypes</h2>"
   ]
  },
  {
   "cell_type": "markdown",
   "id": "aea61261",
   "metadata": {},
   "source": [
    "Every numpy array is a grid of elements of the same type. Numpy provides a large set of numeric datatypes that you can use to construct arrays. Numpy tries to guess a datatype when you create an array, but functions that construct arrays usually also include an optional argument to explicitly specify the datatype. Here is an example:"
   ]
  },
  {
   "cell_type": "code",
   "execution_count": 14,
   "id": "479cb9d4",
   "metadata": {},
   "outputs": [
    {
     "name": "stdout",
     "output_type": "stream",
     "text": [
      "int64\n",
      "float64\n",
      "int64\n"
     ]
    }
   ],
   "source": [
    "import numpy as np\n",
    "\n",
    "x = np.array([1, 2])   # Let numpy choose the datatype\n",
    "print(x.dtype)         # Prints \"int64\"\n",
    "\n",
    "x = np.array([1.0, 2.0])   # Let numpy choose the datatype\n",
    "print(x.dtype)             # Prints \"float64\"\n",
    "\n",
    "x = np.array([1, 2], dtype=np.int64)   # Force a particular datatype\n",
    "print(x.dtype)                         # Prints \"int64\""
   ]
  },
  {
   "cell_type": "markdown",
   "id": "fa76ce03",
   "metadata": {},
   "source": [
    "You can read all about numpy datatypes in the <a href=\"http://docs.scipy.org/doc/numpy/reference/arrays.dtypes.html\">documentation</a>."
   ]
  },
  {
   "cell_type": "markdown",
   "id": "5e92992e",
   "metadata": {},
   "source": [
    "<h2>Array math</h2>"
   ]
  },
  {
   "cell_type": "markdown",
   "id": "1f1bcf3b",
   "metadata": {},
   "source": [
    "Basic mathematical functions operate elementwise on arrays, and are available both as operator overloads and as functions in the numpy module:"
   ]
  },
  {
   "cell_type": "code",
   "execution_count": 15,
   "id": "73984ccb",
   "metadata": {},
   "outputs": [
    {
     "name": "stdout",
     "output_type": "stream",
     "text": [
      "[[ 6.  8.]\n",
      " [10. 12.]]\n",
      "[[ 6.  8.]\n",
      " [10. 12.]]\n",
      "[[-4. -4.]\n",
      " [-4. -4.]]\n",
      "[[-4. -4.]\n",
      " [-4. -4.]]\n",
      "[[ 5. 12.]\n",
      " [21. 32.]]\n",
      "[[ 5. 12.]\n",
      " [21. 32.]]\n",
      "[[0.2        0.33333333]\n",
      " [0.42857143 0.5       ]]\n",
      "[[0.2        0.33333333]\n",
      " [0.42857143 0.5       ]]\n",
      "[[1.         1.41421356]\n",
      " [1.73205081 2.        ]]\n"
     ]
    }
   ],
   "source": [
    "import numpy as np\n",
    "\n",
    "x = np.array([[1,2],[3,4]], dtype=np.float64)\n",
    "y = np.array([[5,6],[7,8]], dtype=np.float64)\n",
    "\n",
    "# Elementwise sum; both produce the array\n",
    "# [[ 6.0  8.0]\n",
    "#  [10.0 12.0]]\n",
    "print(x + y)\n",
    "print(np.add(x, y))\n",
    "\n",
    "# Elementwise difference; both produce the array\n",
    "# [[-4.0 -4.0]\n",
    "#  [-4.0 -4.0]]\n",
    "print(x - y)\n",
    "print(np.subtract(x, y))\n",
    "\n",
    "# Elementwise product; both produce the array\n",
    "# [[ 5.0 12.0]\n",
    "#  [21.0 32.0]]\n",
    "print(x * y)\n",
    "print(np.multiply(x, y))\n",
    "\n",
    "# Elementwise division; both produce the array\n",
    "# [[ 0.2         0.33333333]\n",
    "#  [ 0.42857143  0.5       ]]\n",
    "print(x / y)\n",
    "print(np.divide(x, y))\n",
    "\n",
    "# Elementwise square root; produces the array\n",
    "# [[ 1.          1.41421356]\n",
    "#  [ 1.73205081  2.        ]]\n",
    "print(np.sqrt(x))"
   ]
  },
  {
   "cell_type": "markdown",
   "id": "7a40c902",
   "metadata": {},
   "source": [
    "Note that unlike MATLAB, * is elementwise multiplication, not matrix multiplication. We instead use the dot function to compute inner products of vectors, to multiply a vector by a matrix, and to multiply matrices. dot is available both as a function in the numpy module and as an instance method of array objects:"
   ]
  },
  {
   "cell_type": "code",
   "execution_count": 16,
   "id": "d97e844c",
   "metadata": {},
   "outputs": [
    {
     "name": "stdout",
     "output_type": "stream",
     "text": [
      "219\n",
      "219\n",
      "[29 67]\n",
      "[29 67]\n",
      "[[19 22]\n",
      " [43 50]]\n",
      "[[19 22]\n",
      " [43 50]]\n"
     ]
    }
   ],
   "source": [
    "import numpy as np\n",
    "\n",
    "x = np.array([[1,2],[3,4]])\n",
    "y = np.array([[5,6],[7,8]])\n",
    "\n",
    "v = np.array([9,10])\n",
    "w = np.array([11, 12])\n",
    "\n",
    "# Inner product of vectors; both produce 219\n",
    "print(v.dot(w))\n",
    "print(np.dot(v, w))\n",
    "\n",
    "# Matrix / vector product; both produce the rank 1 array [29 67]\n",
    "print(x.dot(v))\n",
    "print(np.dot(x, v))\n",
    "\n",
    "# Matrix / matrix product; both produce the rank 2 array\n",
    "# [[19 22]\n",
    "#  [43 50]]\n",
    "print(x.dot(y))\n",
    "print(np.dot(x, y))"
   ]
  },
  {
   "cell_type": "markdown",
   "id": "07e9d3e5",
   "metadata": {},
   "source": [
    "Numpy provides many useful functions for performing computations on arrays; one of the most useful is sum:"
   ]
  },
  {
   "cell_type": "code",
   "execution_count": 17,
   "id": "170435c5",
   "metadata": {},
   "outputs": [
    {
     "name": "stdout",
     "output_type": "stream",
     "text": [
      "10\n",
      "[4 6]\n",
      "[3 7]\n"
     ]
    }
   ],
   "source": [
    "import numpy as np\n",
    "\n",
    "x = np.array([[1,2],[3,4]])\n",
    "\n",
    "print(np.sum(x))  # Compute sum of all elements; prints \"10\"\n",
    "print(np.sum(x, axis=0))  # Compute sum of each column; prints \"[4 6]\"\n",
    "print(np.sum(x, axis=1))  # Compute sum of each row; prints \"[3 7]\""
   ]
  },
  {
   "cell_type": "markdown",
   "id": "5867fc9c",
   "metadata": {},
   "source": [
    "You can find the full list of mathematical functions provided by numpy in the <a href=\"http://docs.scipy.org/doc/numpy/reference/routines.math.html\">documentation</a>."
   ]
  },
  {
   "cell_type": "markdown",
   "id": "4fc7ab37",
   "metadata": {},
   "source": [
    "Apart from computing mathematical functions using arrays, we frequently need to reshape or otherwise manipulate data in arrays. The simplest example of this type of operation is transposing a matrix; to transpose a matrix, simply use the T attribute of an array object"
   ]
  },
  {
   "cell_type": "code",
   "execution_count": 18,
   "id": "c20cd90b",
   "metadata": {},
   "outputs": [
    {
     "name": "stdout",
     "output_type": "stream",
     "text": [
      "[[1 2]\n",
      " [3 4]]\n",
      "[[1 3]\n",
      " [2 4]]\n",
      "[1 2 3]\n",
      "[1 2 3]\n"
     ]
    }
   ],
   "source": [
    "import numpy as np\n",
    "\n",
    "x = np.array([[1,2], [3,4]])\n",
    "print(x)    # Prints \"[[1 2]\n",
    "            #          [3 4]]\"\n",
    "print(x.T)  # Prints \"[[1 3]\n",
    "            #          [2 4]]\"\n",
    "\n",
    "# Note that taking the transpose of a rank 1 array does nothing:\n",
    "v = np.array([1,2,3])\n",
    "print(v)    # Prints \"[1 2 3]\"\n",
    "print(v.T)  # Prints \"[1 2 3]\""
   ]
  },
  {
   "cell_type": "markdown",
   "id": "93455be6",
   "metadata": {},
   "source": [
    "Numpy provides many more functions for manipulating arrays; you can see the full list in the <a href=\"http://docs.scipy.org/doc/numpy/reference/routines.array-manipulation.html\">documentation</a>."
   ]
  },
  {
   "cell_type": "markdown",
   "id": "23feb3c9",
   "metadata": {},
   "source": [
    "<h2>Broadcasting</h2>"
   ]
  },
  {
   "cell_type": "markdown",
   "id": "2c267c61",
   "metadata": {},
   "source": [
    "Broadcasting is a powerful mechanism that allows numpy to work with arrays of different shapes when performing arithmetic operations. Frequently we have a smaller array and a larger array, and we want to use the smaller array multiple times to perform some operation on the larger array.\n",
    "\n",
    "For example, suppose that we want to add a constant vector to each row of a matrix. We could do it like this:"
   ]
  },
  {
   "cell_type": "code",
   "execution_count": 19,
   "id": "ce64bf45",
   "metadata": {},
   "outputs": [
    {
     "name": "stdout",
     "output_type": "stream",
     "text": [
      "[[ 2  2  4]\n",
      " [ 5  5  7]\n",
      " [ 8  8 10]\n",
      " [11 11 13]]\n"
     ]
    }
   ],
   "source": [
    "import numpy as np\n",
    "\n",
    "# We will add the vector v to each row of the matrix x,\n",
    "# storing the result in the matrix y\n",
    "x = np.array([[1,2,3], [4,5,6], [7,8,9], [10, 11, 12]])\n",
    "v = np.array([1, 0, 1])\n",
    "y = np.empty_like(x)   # Create an empty matrix with the same shape as x\n",
    "\n",
    "# Add the vector v to each row of the matrix x with an explicit loop\n",
    "for i in range(4):\n",
    "    y[i, :] = x[i, :] + v\n",
    "\n",
    "# Now y is the following\n",
    "# [[ 2  2  4]\n",
    "#  [ 5  5  7]\n",
    "#  [ 8  8 10]\n",
    "#  [11 11 13]]\n",
    "print(y)"
   ]
  },
  {
   "cell_type": "markdown",
   "id": "634e9d30",
   "metadata": {},
   "source": [
    "This works; however when the matrix x is very large, computing an explicit loop in Python could be slow. Note that adding the vector v to each row of the matrix x is equivalent to forming a matrix vv by stacking multiple copies of v vertically, then performing elementwise summation of x and vv. We could implement this approach like this:"
   ]
  },
  {
   "cell_type": "code",
   "execution_count": 20,
   "id": "b7ef6f82",
   "metadata": {},
   "outputs": [
    {
     "name": "stdout",
     "output_type": "stream",
     "text": [
      "[[1 0 1]\n",
      " [1 0 1]\n",
      " [1 0 1]\n",
      " [1 0 1]]\n",
      "[[ 2  2  4]\n",
      " [ 5  5  7]\n",
      " [ 8  8 10]\n",
      " [11 11 13]]\n"
     ]
    }
   ],
   "source": [
    "import numpy as np\n",
    "\n",
    "# We will add the vector v to each row of the matrix x,\n",
    "# storing the result in the matrix y\n",
    "x = np.array([[1,2,3], [4,5,6], [7,8,9], [10, 11, 12]])\n",
    "v = np.array([1, 0, 1])\n",
    "vv = np.tile(v, (4, 1))   # Stack 4 copies of v on top of each other\n",
    "print(vv)                 # Prints \"[[1 0 1]\n",
    "                          #          [1 0 1]\n",
    "                          #          [1 0 1]\n",
    "                          #          [1 0 1]]\"\n",
    "y = x + vv  # Add x and vv elementwise\n",
    "print(y)  # Prints \"[[ 2  2  4\n",
    "          #          [ 5  5  7]\n",
    "          #          [ 8  8 10]\n",
    "          #          [11 11 13]]\""
   ]
  },
  {
   "cell_type": "markdown",
   "id": "eca9d94c",
   "metadata": {},
   "source": [
    "Numpy broadcasting allows us to perform this computation without actually creating multiple copies of v. Consider this version, using broadcasting:"
   ]
  },
  {
   "cell_type": "code",
   "execution_count": 21,
   "id": "271786ce",
   "metadata": {},
   "outputs": [
    {
     "name": "stdout",
     "output_type": "stream",
     "text": [
      "[[ 2  2  4]\n",
      " [ 5  5  7]\n",
      " [ 8  8 10]\n",
      " [11 11 13]]\n"
     ]
    }
   ],
   "source": [
    "import numpy as np\n",
    "\n",
    "# We will add the vector v to each row of the matrix x,\n",
    "# storing the result in the matrix y\n",
    "x = np.array([[1,2,3], [4,5,6], [7,8,9], [10, 11, 12]])\n",
    "v = np.array([1, 0, 1])\n",
    "y = x + v  # Add v to each row of x using broadcasting\n",
    "print(y)  # Prints \"[[ 2  2  4]\n",
    "          #          [ 5  5  7]\n",
    "          #          [ 8  8 10]\n",
    "          #          [11 11 13]]\""
   ]
  },
  {
   "cell_type": "markdown",
   "id": "db7f3444",
   "metadata": {},
   "source": [
    "The line y = x + v works even though x has shape (4, 3) and v has shape (3,) due to broadcasting; this line works as if v actually had shape (4, 3), where each row was a copy of v, and the sum was performed elementwise."
   ]
  },
  {
   "cell_type": "markdown",
   "id": "846c24ec",
   "metadata": {},
   "source": [
    "Broadcasting two arrays together follows these rules:\n",
    "<ul>\n",
    "  <li>If the arrays do not have the same rank, prepend the shape of the lower rank array with 1s until both shapes have the same length.</li>\n",
    "  <li>The two arrays are said to be compatible in a dimension if they have the same size in the dimension, or if one of the arrays has size 1 in that dimension.</li>\n",
    "  <li>The arrays can be broadcast together if they are compatible in all dimensions.</li>\n",
    "    <li>After broadcasting, each array behaves as if it had shape equal to the elementwise maximum of shapes of the two input arrays.</li>\n",
    "    <li>In any dimension where one array had size 1 and the other array had size greater than 1, the first array behaves as if it were copied along that dimension</li>\n",
    "</ul>\n",
    "\n",
    "\n",
    "\n",
    "\n"
   ]
  },
  {
   "cell_type": "markdown",
   "id": "700564de",
   "metadata": {},
   "source": [
    "If this explanation does not make sense, try reading the explanation from the <a href=\"http://docs.scipy.org/doc/numpy/user/basics.broadcasting.html\">documentation</a> or this <a href=\"https://scipy.github.io/old-wiki/pages/EricsBroadcastingDoc\">explanation</a>."
   ]
  },
  {
   "cell_type": "markdown",
   "id": "389bd836",
   "metadata": {},
   "source": [
    "Functions that support broadcasting are known as universal functions. You can find the list of all universal functions in the <a href=\"http://docs.scipy.org/doc/numpy/reference/ufuncs.html#available-ufuncs\">documentation</a>."
   ]
  },
  {
   "cell_type": "code",
   "execution_count": 22,
   "id": "c21dd93f",
   "metadata": {},
   "outputs": [
    {
     "name": "stdout",
     "output_type": "stream",
     "text": [
      "[[ 4  5]\n",
      " [ 8 10]\n",
      " [12 15]]\n",
      "[[2 4 6]\n",
      " [5 7 9]]\n",
      "[[ 5  6  7]\n",
      " [ 9 10 11]]\n",
      "[[ 5  6  7]\n",
      " [ 9 10 11]]\n",
      "[[ 2  4  6]\n",
      " [ 8 10 12]]\n"
     ]
    }
   ],
   "source": [
    "import numpy as np\n",
    "\n",
    "# Compute outer product of vectors\n",
    "v = np.array([1,2,3])  # v has shape (3,)\n",
    "w = np.array([4,5])    # w has shape (2,)\n",
    "# To compute an outer product, we first reshape v to be a column\n",
    "# vector of shape (3, 1); we can then broadcast it against w to yield\n",
    "# an output of shape (3, 2), which is the outer product of v and w:\n",
    "# [[ 4  5]\n",
    "#  [ 8 10]\n",
    "#  [12 15]]\n",
    "print(np.reshape(v, (3, 1)) * w)\n",
    "\n",
    "# Add a vector to each row of a matrix\n",
    "x = np.array([[1,2,3], [4,5,6]])\n",
    "# x has shape (2, 3) and v has shape (3,) so they broadcast to (2, 3),\n",
    "# giving the following matrix:\n",
    "# [[2 4 6]\n",
    "#  [5 7 9]]\n",
    "print(x + v)\n",
    "\n",
    "# Add a vector to each column of a matrix\n",
    "# x has shape (2, 3) and w has shape (2,).\n",
    "# If we transpose x then it has shape (3, 2) and can be broadcast\n",
    "# against w to yield a result of shape (3, 2); transposing this result\n",
    "# yields the final result of shape (2, 3) which is the matrix x with\n",
    "# the vector w added to each column. Gives the following matrix:\n",
    "# [[ 5  6  7]\n",
    "#  [ 9 10 11]]\n",
    "print((x.T + w).T)\n",
    "# Another solution is to reshape w to be a column vector of shape (2, 1);\n",
    "# we can then broadcast it directly against x to produce the same\n",
    "# output.\n",
    "print(x + np.reshape(w, (2, 1)))\n",
    "\n",
    "# Multiply a matrix by a constant:\n",
    "# x has shape (2, 3). Numpy treats scalars as arrays of shape ();\n",
    "# these can be broadcast together to shape (2, 3), producing the\n",
    "# following array:\n",
    "# [[ 2  4  6]\n",
    "#  [ 8 10 12]]\n",
    "print(x * 2)"
   ]
  },
  {
   "cell_type": "markdown",
   "id": "403ca2c9",
   "metadata": {},
   "source": [
    "Broadcasting typically makes your code more concise and faster, so you should strive to use it where possible."
   ]
  },
  {
   "cell_type": "markdown",
   "id": "f3b292d3",
   "metadata": {},
   "source": [
    "<h2>Call by refrence</h2>"
   ]
  },
  {
   "cell_type": "markdown",
   "id": "ad09051e",
   "metadata": {},
   "source": [
    "slicing show a view of the array which means there is no copy and any change in the second array results in changing values in the original one."
   ]
  },
  {
   "cell_type": "code",
   "execution_count": 23,
   "id": "28265ce1",
   "metadata": {},
   "outputs": [
    {
     "name": "stdout",
     "output_type": "stream",
     "text": [
      "[[1 2 3]\n",
      " [4 5 6]]\n",
      "[[5 6]]\n",
      "[[1 2 3]\n",
      " [4 5 0]]\n",
      "[[5 0]]\n"
     ]
    }
   ],
   "source": [
    "a=np.array([[1,2,3],[4,5,6]])\n",
    "# we initialize a by \n",
    "#[[1 2 3]\n",
    "#  [ 4 5 6]]\n",
    "print(a)\n",
    "b=a[1:,1:]\n",
    "# we slice a and asign that to b \n",
    "# \n",
    "#\n",
    "print(b)\n",
    "b[:,1:]=0\n",
    "# so any change in b result in changes in a\n",
    "print(a)\n",
    "print(b)"
   ]
  },
  {
   "cell_type": "markdown",
   "id": "69b19a23",
   "metadata": {},
   "source": [
    "This brief overview has touched on many of the important things that you need to know about numpy, but is far from complete. Check out the numpy reference to find out much more about numpy."
   ]
  },
  {
   "attachments": {},
   "cell_type": "markdown",
   "id": "96669444",
   "metadata": {},
   "source": [
    "# Challenge on Numpy"
   ]
  },
  {
   "attachments": {},
   "cell_type": "markdown",
   "id": "7f40c930",
   "metadata": {},
   "source": [
    "Create an array of random numbers between 10 and 100 in shape of (50,50). (hint: use np.random.randint )."
   ]
  },
  {
   "cell_type": "code",
   "execution_count": 2,
   "id": "8a3ed3f3",
   "metadata": {},
   "outputs": [
    {
     "data": {
      "text/plain": [
       "array([[66, 22, 75, ..., 54, 49, 97],\n",
       "       [45, 95, 40, ..., 74, 98, 14],\n",
       "       [49, 46, 79, ..., 45, 73, 55],\n",
       "       ...,\n",
       "       [93, 80, 26, ..., 88, 46, 59],\n",
       "       [65, 82, 48, ..., 12, 45, 73],\n",
       "       [76, 19, 51, ..., 44, 76, 89]])"
      ]
     },
     "execution_count": 2,
     "metadata": {},
     "output_type": "execute_result"
    }
   ],
   "source": [
    "import numpy as np\n",
    "array=np.random.randint(10,100,(50,50))\n",
    "array"
   ]
  },
  {
   "attachments": {},
   "cell_type": "markdown",
   "id": "63d775db",
   "metadata": {},
   "source": [
    "Reshape the array to (5,5,10,10)."
   ]
  },
  {
   "cell_type": "code",
   "execution_count": 6,
   "id": "0fc9d78c",
   "metadata": {},
   "outputs": [
    {
     "data": {
      "text/plain": [
       "array([[[[66, 22, 75, ..., 38, 69, 29],\n",
       "         [30, 11, 71, ..., 23, 53, 53],\n",
       "         [88, 12, 67, ..., 26, 36, 88],\n",
       "         ...,\n",
       "         [74, 21, 23, ..., 41, 30, 47],\n",
       "         [63, 21, 85, ..., 45, 40, 82],\n",
       "         [58, 86, 41, ..., 74, 98, 14]],\n",
       "\n",
       "        [[49, 46, 79, ..., 62, 37, 53],\n",
       "         [60, 45, 95, ..., 59, 91, 80],\n",
       "         [13, 99, 81, ..., 50, 17, 38],\n",
       "         ...,\n",
       "         [11, 25, 50, ..., 66, 44, 11],\n",
       "         [15, 59, 86, ..., 11, 99, 17],\n",
       "         [60, 79, 70, ..., 47, 68, 86]],\n",
       "\n",
       "        [[78, 84, 96, ..., 74, 79, 85],\n",
       "         [66, 12, 35, ..., 43, 96, 27],\n",
       "         [25, 62, 23, ..., 30, 21, 34],\n",
       "         ...,\n",
       "         [46, 11, 91, ..., 60, 50, 50],\n",
       "         [87, 58, 55, ..., 34, 90, 27],\n",
       "         [20, 23, 11, ..., 75, 79, 13]],\n",
       "\n",
       "        [[65, 95, 98, ..., 96, 75, 87],\n",
       "         [93, 84, 13, ..., 22, 49, 48],\n",
       "         [97, 69, 44, ..., 68, 50, 63],\n",
       "         ...,\n",
       "         [35, 61, 53, ..., 58, 82, 27],\n",
       "         [25, 72, 43, ..., 40, 29, 91],\n",
       "         [24, 30, 57, ..., 61, 93, 17]],\n",
       "\n",
       "        [[51, 98, 88, ..., 63, 72, 27],\n",
       "         [38, 44, 93, ..., 57, 66, 37],\n",
       "         [68, 75, 46, ..., 92, 28, 54],\n",
       "         ...,\n",
       "         [53, 75, 35, ..., 41, 78, 62],\n",
       "         [92, 30, 28, ..., 63, 94, 83],\n",
       "         [69, 67, 72, ..., 27, 20, 32]]],\n",
       "\n",
       "\n",
       "       [[[35, 98, 90, ..., 58, 89, 63],\n",
       "         [41, 61, 86, ..., 49, 40, 24],\n",
       "         [94, 28, 36, ..., 35, 67, 37],\n",
       "         ...,\n",
       "         [18, 25, 76, ..., 33, 42, 25],\n",
       "         [34, 93, 75, ..., 80, 38, 46],\n",
       "         [56, 17, 12, ..., 45, 98, 45]],\n",
       "\n",
       "        [[81, 84, 59, ..., 91, 46, 85],\n",
       "         [51, 40, 92, ..., 88, 33, 23],\n",
       "         [89, 29, 59, ..., 71, 71, 14],\n",
       "         ...,\n",
       "         [73, 69, 23, ..., 39, 76, 53],\n",
       "         [36, 99, 64, ..., 94, 59, 88],\n",
       "         [51, 69, 67, ..., 77, 74, 29]],\n",
       "\n",
       "        [[91, 90, 75, ..., 90, 10, 48],\n",
       "         [32, 35, 32, ..., 88, 27, 76],\n",
       "         [48, 80, 82, ..., 19, 39, 68],\n",
       "         ...,\n",
       "         [96, 72, 71, ..., 36, 83, 76],\n",
       "         [21, 91, 63, ..., 27, 85, 81],\n",
       "         [85, 41, 36, ..., 17, 12, 38]],\n",
       "\n",
       "        [[67, 16, 76, ..., 19, 83, 47],\n",
       "         [96, 87, 37, ..., 53, 84, 21],\n",
       "         [10, 40, 25, ..., 27, 39, 97],\n",
       "         ...,\n",
       "         [38, 60, 65, ..., 55, 82, 20],\n",
       "         [20, 35, 89, ..., 70, 91, 17],\n",
       "         [33, 90, 46, ..., 99, 80, 95]],\n",
       "\n",
       "        [[84, 48, 41, ..., 90, 81, 82],\n",
       "         [89, 35, 98, ..., 81, 29, 21],\n",
       "         [61, 80, 65, ..., 28, 47, 85],\n",
       "         ...,\n",
       "         [96, 74, 30, ..., 79, 19, 93],\n",
       "         [31, 39, 52, ..., 13, 16, 84],\n",
       "         [50, 15, 40, ..., 43, 57, 51]]],\n",
       "\n",
       "\n",
       "       [[[11, 94, 28, ..., 77, 49, 19],\n",
       "         [93, 52, 61, ..., 85, 39, 46],\n",
       "         [17, 63, 12, ..., 29, 66, 86],\n",
       "         ...,\n",
       "         [73, 34, 65, ..., 25, 66, 75],\n",
       "         [18, 92, 78, ..., 78, 75, 57],\n",
       "         [30, 53, 45, ..., 78, 86, 58]],\n",
       "\n",
       "        [[22, 53, 41, ..., 87, 36, 19],\n",
       "         [89, 66, 45, ..., 47, 74, 90],\n",
       "         [76, 81, 41, ..., 53, 32, 24],\n",
       "         ...,\n",
       "         [97, 22, 53, ..., 37, 66, 69],\n",
       "         [36, 31, 11, ..., 38, 15, 24],\n",
       "         [20, 47, 30, ..., 70, 40, 16]],\n",
       "\n",
       "        [[19, 99, 41, ..., 26, 10, 72],\n",
       "         [15, 36, 35, ..., 54, 65, 55],\n",
       "         [74, 64, 23, ..., 27, 39, 84],\n",
       "         ...,\n",
       "         [64, 48, 37, ..., 58, 17, 16],\n",
       "         [76, 15, 18, ..., 97, 18, 67],\n",
       "         [11, 81, 18, ..., 35, 70, 15]],\n",
       "\n",
       "        [[76, 23, 50, ..., 68, 44, 10],\n",
       "         [54, 59, 38, ..., 28, 63, 53],\n",
       "         [95, 77, 59, ..., 19, 48, 63],\n",
       "         ...,\n",
       "         [26, 11, 15, ..., 36, 91, 74],\n",
       "         [24, 29, 72, ..., 79, 75, 77],\n",
       "         [11, 78, 68, ..., 26, 71, 39]],\n",
       "\n",
       "        [[17, 72, 53, ..., 89, 73, 73],\n",
       "         [83, 38, 29, ..., 19, 76, 55],\n",
       "         [96, 76, 78, ..., 53, 72, 24],\n",
       "         ...,\n",
       "         [23, 68, 71, ..., 43, 15, 58],\n",
       "         [64, 69, 63, ..., 84, 38, 54],\n",
       "         [77, 33, 70, ..., 70, 48, 12]]],\n",
       "\n",
       "\n",
       "       [[[97, 41, 93, ..., 44, 71, 62],\n",
       "         [68, 18, 89, ..., 37, 58, 35],\n",
       "         [80, 24, 25, ..., 77, 15, 44],\n",
       "         ...,\n",
       "         [96, 42, 84, ..., 94, 51, 68],\n",
       "         [24, 50, 47, ..., 27, 49, 40],\n",
       "         [52, 40, 86, ..., 47, 33, 55]],\n",
       "\n",
       "        [[17, 92, 84, ..., 35, 73, 81],\n",
       "         [50, 15, 21, ..., 46, 93, 70],\n",
       "         [12, 35, 73, ..., 36, 66, 48],\n",
       "         ...,\n",
       "         [23, 15, 85, ..., 67, 75, 26],\n",
       "         [91, 41, 31, ..., 70, 34, 20],\n",
       "         [13, 82, 62, ..., 34, 75, 67]],\n",
       "\n",
       "        [[98, 86, 49, ..., 98, 80, 85],\n",
       "         [68, 26, 43, ..., 62, 20, 56],\n",
       "         [37, 80, 13, ..., 30, 78, 86],\n",
       "         ...,\n",
       "         [37, 68, 41, ..., 34, 62, 77],\n",
       "         [21, 20, 21, ..., 74, 57, 22],\n",
       "         [82, 70, 73, ..., 31, 34, 39]],\n",
       "\n",
       "        [[66, 80, 52, ..., 24, 50, 62],\n",
       "         [73, 84, 27, ..., 89, 78, 36],\n",
       "         [70, 84, 62, ..., 15, 28, 33],\n",
       "         ...,\n",
       "         [72, 51, 43, ..., 76, 60, 26],\n",
       "         [19, 15, 62, ..., 18, 60, 93],\n",
       "         [66, 74, 52, ..., 26, 17, 29]],\n",
       "\n",
       "        [[73, 50, 20, ..., 60, 46, 31],\n",
       "         [39, 43, 84, ..., 25, 80, 60],\n",
       "         [89, 88, 66, ..., 54, 75, 59],\n",
       "         ...,\n",
       "         [67, 22, 62, ..., 21, 50, 18],\n",
       "         [76, 82, 73, ..., 29, 70, 65],\n",
       "         [79, 35, 77, ..., 68, 44, 44]]],\n",
       "\n",
       "\n",
       "       [[[68, 51, 75, ..., 86, 62, 99],\n",
       "         [16, 87, 60, ..., 88, 15, 19],\n",
       "         [52, 72, 86, ..., 65, 28, 43],\n",
       "         ...,\n",
       "         [13, 95, 47, ..., 66, 17, 22],\n",
       "         [54, 48, 45, ..., 64, 89, 24],\n",
       "         [61, 44, 90, ..., 68, 91, 59]],\n",
       "\n",
       "        [[15, 20, 45, ..., 18, 94, 33],\n",
       "         [23, 99, 49, ..., 84, 63, 80],\n",
       "         [80, 68, 84, ..., 51, 24, 33],\n",
       "         ...,\n",
       "         [79, 36, 96, ..., 28, 54, 62],\n",
       "         [76, 95, 11, ..., 96, 95, 32],\n",
       "         [49, 33, 54, ..., 74, 41, 11]],\n",
       "\n",
       "        [[81, 36, 63, ..., 21, 68, 80],\n",
       "         [73, 38, 85, ..., 71, 86, 25],\n",
       "         [28, 63, 70, ..., 63, 12, 50],\n",
       "         ...,\n",
       "         [49, 77, 16, ..., 69, 11, 33],\n",
       "         [62, 57, 59, ..., 47, 82, 32],\n",
       "         [16, 81, 88, ..., 48, 11, 13]],\n",
       "\n",
       "        [[53, 92, 77, ..., 87, 77, 80],\n",
       "         [21, 90, 81, ..., 85, 96, 24],\n",
       "         [12, 16, 70, ..., 63, 31, 92],\n",
       "         ...,\n",
       "         [71, 96, 47, ..., 86, 16, 45],\n",
       "         [73, 50, 48, ..., 34, 19, 66],\n",
       "         [48, 94, 93, ..., 88, 46, 59]],\n",
       "\n",
       "        [[65, 82, 48, ..., 19, 79, 59],\n",
       "         [80, 42, 96, ..., 44, 57, 14],\n",
       "         [44, 83, 48, ..., 75, 73, 65],\n",
       "         ...,\n",
       "         [61, 78, 55, ..., 15, 49, 68],\n",
       "         [35, 96, 54, ..., 89, 28, 53],\n",
       "         [49, 96, 97, ..., 44, 76, 89]]]])"
      ]
     },
     "execution_count": 6,
     "metadata": {},
     "output_type": "execute_result"
    }
   ],
   "source": [
    "array=array.reshape(5,5,10,10)\n",
    "array"
   ]
  },
  {
   "attachments": {},
   "cell_type": "markdown",
   "id": "a6ca50a7",
   "metadata": {},
   "source": [
    "Change elements greater than 25 to 300.\n"
   ]
  },
  {
   "cell_type": "code",
   "execution_count": 7,
   "id": "8bffeab0",
   "metadata": {},
   "outputs": [],
   "source": [
    "array[array>25]=300"
   ]
  },
  {
   "attachments": {},
   "cell_type": "markdown",
   "id": "8cad2140",
   "metadata": {},
   "source": [
    "Reshape the array to (50,50).\n"
   ]
  },
  {
   "cell_type": "code",
   "execution_count": 8,
   "id": "4872811c",
   "metadata": {},
   "outputs": [],
   "source": [
    "array=array.reshape(50,50)"
   ]
  },
  {
   "attachments": {},
   "cell_type": "markdown",
   "id": "a3281b0b",
   "metadata": {},
   "source": [
    "Get elements in address [24,12] and [23,45]  in a list with only one instruction."
   ]
  },
  {
   "cell_type": "code",
   "execution_count": 9,
   "id": "918d286d",
   "metadata": {},
   "outputs": [
    {
     "data": {
      "text/plain": [
       "array([300,  23])"
      ]
     },
     "execution_count": 9,
     "metadata": {},
     "output_type": "execute_result"
    }
   ],
   "source": [
    "array[[24,23],[12,45]]"
   ]
  }
 ],
 "metadata": {
  "kernelspec": {
   "display_name": "Python 3",
   "language": "python",
   "name": "python3"
  },
  "language_info": {
   "codemirror_mode": {
    "name": "ipython",
    "version": 3
   },
   "file_extension": ".py",
   "mimetype": "text/x-python",
   "name": "python",
   "nbconvert_exporter": "python",
   "pygments_lexer": "ipython3",
   "version": "3.10.8"
  },
  "vscode": {
   "interpreter": {
    "hash": "ec21d020fdb83eb2829808c0505e5b33037481656f73549d7749c38a50b0ef23"
   }
  }
 },
 "nbformat": 4,
 "nbformat_minor": 5
}
